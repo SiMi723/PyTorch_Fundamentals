{
  "nbformat": 4,
  "nbformat_minor": 0,
  "metadata": {
    "colab": {
      "provenance": [],
      "gpuType": "T4"
    },
    "kernelspec": {
      "name": "python3",
      "display_name": "Python 3"
    },
    "language_info": {
      "name": "python"
    },
    "accelerator": "GPU"
  },
  "cells": [
    {
      "cell_type": "markdown",
      "source": [
        "**00.Pytorch Fundamentals**"
      ],
      "metadata": {
        "id": "ahOdr9_3DQJN"
      }
    },
    {
      "cell_type": "code",
      "execution_count": 2,
      "metadata": {
        "colab": {
          "base_uri": "https://localhost:8080/"
        },
        "id": "adVnkIiZCZoh",
        "outputId": "f718852e-2f46-4b6a-f7b0-a26f7dcd4dc3"
      },
      "outputs": [
        {
          "output_type": "stream",
          "name": "stdout",
          "text": [
            "2.3.0+cu121\n"
          ]
        }
      ],
      "source": [
        "import torch\n",
        "import pandas as pd\n",
        "import numpy as np\n",
        "import matplotlib.pyplot as plt\n",
        "print(torch.__version__)"
      ]
    },
    {
      "cell_type": "markdown",
      "source": [
        "## Introduction to Tensors\n",
        "\n",
        "\n",
        "### Creating tensors\n",
        "\n",
        "```\n",
        "PyTorch tensors are created using 'torch.Tensor()' = https://pytorch.org/docs/stable/tensors.html\n",
        "```\n",
        "\n",
        "**"
      ],
      "metadata": {
        "id": "lLHCRIStFoPc"
      }
    },
    {
      "cell_type": "code",
      "source": [
        "# Scalar\n",
        "scalar = torch.tensor(7)\n",
        "scalar"
      ],
      "metadata": {
        "colab": {
          "base_uri": "https://localhost:8080/"
        },
        "id": "P4f5ct_3F0VJ",
        "outputId": "d5b7adb3-14c4-4e14-fcd1-f67d26e5dd55"
      },
      "execution_count": 3,
      "outputs": [
        {
          "output_type": "execute_result",
          "data": {
            "text/plain": [
              "tensor(7)"
            ]
          },
          "metadata": {},
          "execution_count": 3
        }
      ]
    },
    {
      "cell_type": "code",
      "source": [
        "scalar.ndim"
      ],
      "metadata": {
        "colab": {
          "base_uri": "https://localhost:8080/"
        },
        "id": "AugZ82b8HJrT",
        "outputId": "e00c209b-e480-4cc2-982e-564cf5f4b0a1"
      },
      "execution_count": 4,
      "outputs": [
        {
          "output_type": "execute_result",
          "data": {
            "text/plain": [
              "0"
            ]
          },
          "metadata": {},
          "execution_count": 4
        }
      ]
    },
    {
      "cell_type": "code",
      "source": [
        "# Get the Python number within a tensor (only works with one-element tensors)\n",
        "scalar.item()"
      ],
      "metadata": {
        "colab": {
          "base_uri": "https://localhost:8080/"
        },
        "id": "3tpMTuq7HaD4",
        "outputId": "fb722726-b533-4246-9c83-e033c9dabda3"
      },
      "execution_count": 5,
      "outputs": [
        {
          "output_type": "execute_result",
          "data": {
            "text/plain": [
              "7"
            ]
          },
          "metadata": {},
          "execution_count": 5
        }
      ]
    },
    {
      "cell_type": "code",
      "source": [
        "# Vector\n",
        "vector = torch.tensor([7, 7])\n",
        "vector"
      ],
      "metadata": {
        "colab": {
          "base_uri": "https://localhost:8080/"
        },
        "id": "p8cy4n8VkxGM",
        "outputId": "ccf3fd1e-b7d0-40c3-b1ad-7140d11b624e"
      },
      "execution_count": 6,
      "outputs": [
        {
          "output_type": "execute_result",
          "data": {
            "text/plain": [
              "tensor([7, 7])"
            ]
          },
          "metadata": {},
          "execution_count": 6
        }
      ]
    },
    {
      "cell_type": "code",
      "source": [
        "# Check the number of dimensions of vector\n",
        "vector.ndim"
      ],
      "metadata": {
        "colab": {
          "base_uri": "https://localhost:8080/"
        },
        "id": "a6NmOFpflET6",
        "outputId": "3e389d6a-9c63-4c78-da32-95265bb34e72"
      },
      "execution_count": 7,
      "outputs": [
        {
          "output_type": "execute_result",
          "data": {
            "text/plain": [
              "1"
            ]
          },
          "metadata": {},
          "execution_count": 7
        }
      ]
    },
    {
      "cell_type": "code",
      "source": [
        "# Check shape of vector\n",
        "vector.shape"
      ],
      "metadata": {
        "colab": {
          "base_uri": "https://localhost:8080/"
        },
        "id": "5yybVFt7nCO4",
        "outputId": "10fb4ef5-9a39-4960-ce31-434869ae776b"
      },
      "execution_count": 8,
      "outputs": [
        {
          "output_type": "execute_result",
          "data": {
            "text/plain": [
              "torch.Size([2])"
            ]
          },
          "metadata": {},
          "execution_count": 8
        }
      ]
    },
    {
      "cell_type": "code",
      "source": [
        "# Matrix\n",
        "MATRIX = torch.tensor([[7, 8],\n",
        "                       [9, 10]])\n",
        "MATRIX"
      ],
      "metadata": {
        "colab": {
          "base_uri": "https://localhost:8080/"
        },
        "id": "2lKYESkLnHqF",
        "outputId": "8ad2bd17-99f5-4e12-f2a6-a84a389f5039"
      },
      "execution_count": 9,
      "outputs": [
        {
          "output_type": "execute_result",
          "data": {
            "text/plain": [
              "tensor([[ 7,  8],\n",
              "        [ 9, 10]])"
            ]
          },
          "metadata": {},
          "execution_count": 9
        }
      ]
    },
    {
      "cell_type": "code",
      "source": [
        "# Check number of dimensions\n",
        "MATRIX.ndim"
      ],
      "metadata": {
        "colab": {
          "base_uri": "https://localhost:8080/"
        },
        "id": "pPPUPNpPnLbU",
        "outputId": "a1d54b7b-846e-45b1-bb74-a39550e6c178"
      },
      "execution_count": 10,
      "outputs": [
        {
          "output_type": "execute_result",
          "data": {
            "text/plain": [
              "2"
            ]
          },
          "metadata": {},
          "execution_count": 10
        }
      ]
    },
    {
      "cell_type": "code",
      "source": [
        "MATRIX.shape"
      ],
      "metadata": {
        "colab": {
          "base_uri": "https://localhost:8080/"
        },
        "id": "uB-X_osanShA",
        "outputId": "9d693642-e9cc-4650-fc62-e1aab7f2ef55"
      },
      "execution_count": 11,
      "outputs": [
        {
          "output_type": "execute_result",
          "data": {
            "text/plain": [
              "torch.Size([2, 2])"
            ]
          },
          "metadata": {},
          "execution_count": 11
        }
      ]
    },
    {
      "cell_type": "code",
      "source": [
        "# Tensor\n",
        "TENSOR = torch.tensor([[[1, 2, 3],\n",
        "                        [3, 6, 9],\n",
        "                        [2, 4, 5]]])\n",
        "TENSOR"
      ],
      "metadata": {
        "colab": {
          "base_uri": "https://localhost:8080/"
        },
        "id": "SN0BiZ0UoC6V",
        "outputId": "2445aebe-254a-4923-8ad3-0c47ce113a7c"
      },
      "execution_count": 12,
      "outputs": [
        {
          "output_type": "execute_result",
          "data": {
            "text/plain": [
              "tensor([[[1, 2, 3],\n",
              "         [3, 6, 9],\n",
              "         [2, 4, 5]]])"
            ]
          },
          "metadata": {},
          "execution_count": 12
        }
      ]
    },
    {
      "cell_type": "code",
      "source": [
        "# Check number of dimensions for TENSOR\n",
        "TENSOR.ndim"
      ],
      "metadata": {
        "colab": {
          "base_uri": "https://localhost:8080/"
        },
        "id": "gDTIBwUEug1R",
        "outputId": "4756b5e3-1a53-4ffc-d4aa-af3128f639f6"
      },
      "execution_count": 13,
      "outputs": [
        {
          "output_type": "execute_result",
          "data": {
            "text/plain": [
              "3"
            ]
          },
          "metadata": {},
          "execution_count": 13
        }
      ]
    },
    {
      "cell_type": "code",
      "source": [
        "# Check shape of TENSOR\n",
        "TENSOR.shape"
      ],
      "metadata": {
        "colab": {
          "base_uri": "https://localhost:8080/"
        },
        "id": "zIjkrbqfukZ3",
        "outputId": "8888e8b3-5c3f-4e17-dc23-aa9580b64423"
      },
      "execution_count": 14,
      "outputs": [
        {
          "output_type": "execute_result",
          "data": {
            "text/plain": [
              "torch.Size([1, 3, 3])"
            ]
          },
          "metadata": {},
          "execution_count": 14
        }
      ]
    },
    {
      "cell_type": "code",
      "source": [
        "TENSOR[0]"
      ],
      "metadata": {
        "colab": {
          "base_uri": "https://localhost:8080/"
        },
        "id": "P4xePEDDvaZ5",
        "outputId": "30d64fb8-d6ac-4f4f-de78-39ee3660715e"
      },
      "execution_count": 15,
      "outputs": [
        {
          "output_type": "execute_result",
          "data": {
            "text/plain": [
              "tensor([[1, 2, 3],\n",
              "        [3, 6, 9],\n",
              "        [2, 4, 5]])"
            ]
          },
          "metadata": {},
          "execution_count": 15
        }
      ]
    },
    {
      "cell_type": "markdown",
      "source": [
        "**Random tensors**\n",
        "\n",
        "Why random tensors?\n",
        "\n",
        "Random tensors are important because the way many neural networks learn is that they start with tensors full of random numbers and then adjust those random numbers to better represent the data.\n",
        "\n",
        "'Start with random numbers -> look at data -> update random numbers -> look at data -> update random numbers'"
      ],
      "metadata": {
        "id": "tgybish7v9Yn"
      }
    },
    {
      "cell_type": "code",
      "source": [
        "# Create a random tensor of size (3, 4)\n",
        "random_tensor = torch.rand(size=(10,10,10))\n",
        "random_tensor, random_tensor.dtype"
      ],
      "metadata": {
        "colab": {
          "base_uri": "https://localhost:8080/"
        },
        "id": "AMfHVodfw6R4",
        "outputId": "1ce6cb43-d026-42d9-a04b-7eeb818faff9"
      },
      "execution_count": 16,
      "outputs": [
        {
          "output_type": "execute_result",
          "data": {
            "text/plain": [
              "(tensor([[[4.1374e-01, 4.2883e-01, 4.9987e-01, 4.6522e-01, 1.4576e-01,\n",
              "           5.2952e-01, 3.4919e-01, 8.9229e-01, 5.3387e-01, 8.8169e-02],\n",
              "          [4.5242e-01, 7.0649e-01, 4.1044e-01, 6.6332e-01, 8.2848e-01,\n",
              "           7.0283e-01, 8.9623e-01, 6.5749e-01, 2.2258e-01, 5.9403e-01],\n",
              "          [4.0683e-01, 2.1416e-02, 6.2845e-01, 9.8495e-01, 4.2145e-01,\n",
              "           2.5339e-01, 8.9247e-01, 2.8706e-01, 7.0238e-02, 5.7541e-01],\n",
              "          [4.2296e-01, 3.7772e-01, 1.0860e-01, 8.8060e-02, 6.8868e-01,\n",
              "           5.2486e-01, 3.0599e-01, 2.4237e-01, 8.5583e-02, 7.4392e-01],\n",
              "          [4.6396e-01, 3.4818e-01, 2.6394e-01, 7.6962e-01, 8.6077e-01,\n",
              "           4.2089e-01, 7.1446e-01, 9.0539e-01, 5.6092e-02, 6.5327e-01],\n",
              "          [5.2415e-01, 6.6861e-01, 3.5682e-01, 5.1628e-01, 4.3760e-01,\n",
              "           5.0223e-01, 3.0688e-01, 1.9303e-02, 6.3281e-01, 8.3347e-01],\n",
              "          [8.3629e-01, 6.3616e-01, 9.6016e-01, 3.7754e-01, 6.7573e-01,\n",
              "           2.7417e-01, 4.4203e-01, 8.5428e-01, 4.3040e-01, 5.1473e-01],\n",
              "          [2.2369e-01, 5.2147e-01, 6.3580e-01, 4.8081e-01, 1.7112e-01,\n",
              "           3.8843e-01, 1.3682e-01, 7.3773e-01, 3.2951e-01, 2.1368e-01],\n",
              "          [6.9136e-01, 8.5902e-01, 4.9509e-01, 5.1300e-02, 2.8629e-01,\n",
              "           1.3528e-01, 2.4782e-02, 7.1016e-01, 2.9592e-01, 9.5788e-01],\n",
              "          [5.5829e-01, 2.2003e-01, 8.9074e-01, 2.9501e-02, 3.0586e-01,\n",
              "           9.2512e-01, 7.7225e-01, 2.9026e-01, 5.2761e-01, 2.8247e-02]],\n",
              " \n",
              "         [[3.5048e-01, 4.7579e-01, 6.0456e-01, 1.1152e-01, 3.3596e-01,\n",
              "           5.2700e-01, 8.3569e-01, 9.4764e-01, 7.3244e-01, 5.7898e-01],\n",
              "          [6.7073e-01, 3.7898e-01, 2.6028e-01, 2.6624e-02, 3.8240e-01,\n",
              "           1.3052e-01, 8.9205e-02, 6.4175e-01, 9.9890e-01, 9.3930e-01],\n",
              "          [3.3879e-01, 9.1767e-01, 9.9618e-01, 3.7414e-01, 2.4079e-01,\n",
              "           5.9359e-01, 2.4435e-01, 2.1084e-01, 6.6560e-01, 9.6135e-02],\n",
              "          [3.5432e-01, 2.1925e-01, 9.2347e-01, 3.8245e-01, 4.4197e-01,\n",
              "           3.8042e-01, 6.1047e-01, 6.2127e-01, 4.5456e-01, 9.3337e-01],\n",
              "          [9.7311e-01, 3.4880e-01, 5.3598e-01, 4.3872e-01, 3.2157e-02,\n",
              "           7.5779e-01, 6.7006e-01, 5.6753e-01, 9.8928e-01, 8.5654e-01],\n",
              "          [2.8715e-01, 5.6518e-01, 8.4659e-01, 2.5850e-01, 5.0934e-01,\n",
              "           8.7289e-01, 1.9261e-01, 3.9491e-01, 9.6022e-01, 4.8816e-01],\n",
              "          [4.2695e-01, 3.1828e-01, 1.3012e-01, 8.2485e-01, 8.9624e-01,\n",
              "           3.7457e-01, 1.1106e-01, 7.8150e-02, 3.3514e-01, 8.3275e-01],\n",
              "          [9.5146e-01, 7.6862e-01, 6.8483e-01, 4.2427e-01, 5.8905e-01,\n",
              "           7.0478e-01, 6.0652e-01, 3.8011e-02, 5.0242e-01, 7.0610e-01],\n",
              "          [4.8550e-01, 7.8464e-01, 8.1551e-01, 6.1265e-01, 5.6235e-01,\n",
              "           6.8802e-01, 9.7757e-01, 9.4224e-01, 9.3359e-01, 9.8224e-01],\n",
              "          [8.5500e-03, 5.5628e-01, 6.3904e-01, 9.6111e-01, 7.8124e-01,\n",
              "           4.7163e-01, 8.8386e-02, 5.3191e-01, 4.3647e-01, 6.4627e-02]],\n",
              " \n",
              "         [[2.9724e-01, 8.8624e-01, 4.7866e-01, 1.1297e-01, 5.8872e-01,\n",
              "           7.5831e-01, 5.8063e-01, 8.8105e-01, 7.5798e-01, 8.7661e-01],\n",
              "          [7.7276e-01, 2.2270e-01, 6.7014e-02, 3.3651e-01, 1.9140e-01,\n",
              "           1.5226e-01, 6.5450e-01, 7.6342e-02, 2.2977e-01, 3.9820e-01],\n",
              "          [5.5042e-02, 7.7513e-01, 6.7630e-01, 9.7118e-02, 3.7988e-02,\n",
              "           7.7726e-01, 1.7489e-01, 9.5616e-02, 8.3260e-01, 3.8794e-01],\n",
              "          [7.7874e-01, 8.9379e-01, 1.6762e-01, 6.1757e-01, 6.5100e-01,\n",
              "           4.1813e-01, 9.1100e-01, 6.7065e-01, 2.9841e-01, 2.5145e-01],\n",
              "          [2.8256e-01, 9.4376e-01, 2.0202e-01, 6.2220e-01, 3.9248e-01,\n",
              "           1.4728e-01, 6.1395e-02, 3.8224e-04, 8.5434e-01, 1.6597e-01],\n",
              "          [1.8428e-01, 2.5676e-01, 7.4530e-01, 4.6672e-01, 3.9910e-02,\n",
              "           6.8401e-01, 9.5509e-01, 3.8598e-01, 6.2350e-01, 8.4393e-01],\n",
              "          [1.2855e-01, 5.6471e-02, 5.8214e-01, 4.8388e-01, 8.0574e-01,\n",
              "           2.5015e-01, 8.4885e-01, 5.6330e-01, 2.1724e-01, 6.0132e-01],\n",
              "          [9.1671e-01, 6.4892e-01, 6.0285e-01, 8.6596e-01, 8.5570e-01,\n",
              "           4.3801e-01, 7.9025e-01, 4.5578e-01, 7.1121e-01, 3.3675e-01],\n",
              "          [2.5879e-01, 8.2687e-01, 9.7445e-01, 6.1692e-01, 4.8553e-01,\n",
              "           6.1261e-01, 2.1501e-01, 6.8067e-01, 4.4606e-01, 7.6914e-01],\n",
              "          [7.4483e-01, 1.6530e-01, 2.5846e-01, 8.4147e-01, 1.0025e-01,\n",
              "           7.8820e-02, 4.1336e-01, 3.4661e-01, 9.7159e-01, 7.6402e-01]],\n",
              " \n",
              "         [[5.1485e-01, 6.9150e-01, 6.1052e-01, 4.2971e-01, 9.1084e-01,\n",
              "           5.3088e-02, 2.8370e-01, 5.0048e-02, 6.7449e-01, 1.2143e-01],\n",
              "          [9.9963e-01, 6.2665e-01, 3.4947e-01, 9.2990e-01, 5.1609e-03,\n",
              "           2.2796e-01, 3.1629e-01, 1.4549e-01, 9.4220e-01, 2.7149e-01],\n",
              "          [3.7016e-02, 9.6765e-01, 3.2173e-01, 7.3708e-01, 4.0739e-01,\n",
              "           6.1029e-01, 2.5167e-01, 8.8685e-01, 9.0741e-01, 8.4633e-01],\n",
              "          [9.2786e-01, 7.1175e-01, 9.0213e-01, 7.3424e-01, 7.9766e-01,\n",
              "           2.7860e-01, 6.3517e-02, 9.1509e-01, 5.2159e-02, 3.3394e-01],\n",
              "          [8.5003e-01, 4.6686e-01, 8.9369e-01, 5.6349e-01, 5.1063e-01,\n",
              "           8.7477e-01, 9.0445e-01, 8.8358e-01, 8.1254e-02, 4.2676e-01],\n",
              "          [6.2765e-01, 7.1379e-01, 7.3271e-01, 8.2354e-02, 6.8917e-01,\n",
              "           5.2523e-01, 9.9695e-01, 1.3600e-01, 9.8297e-01, 5.3348e-01],\n",
              "          [9.7995e-01, 3.5497e-02, 8.6215e-01, 4.8710e-01, 5.5931e-01,\n",
              "           5.5696e-01, 1.0545e-01, 6.9311e-01, 1.9701e-01, 1.5245e-02],\n",
              "          [7.0171e-01, 3.4481e-01, 3.6692e-01, 4.6279e-01, 9.1409e-01,\n",
              "           3.1204e-01, 6.1786e-01, 1.6580e-01, 8.6045e-01, 1.5171e-01],\n",
              "          [5.8492e-01, 1.2952e-01, 8.2912e-01, 5.0489e-01, 8.3299e-01,\n",
              "           9.2963e-01, 2.8085e-01, 1.3979e-01, 2.7378e-01, 6.2431e-01],\n",
              "          [9.6253e-01, 7.1909e-01, 1.2896e-01, 6.4197e-01, 7.4105e-01,\n",
              "           1.1779e-02, 1.6229e-01, 1.1005e-01, 6.7371e-02, 8.1730e-01]],\n",
              " \n",
              "         [[1.0582e-01, 3.0862e-01, 2.0997e-01, 7.8278e-01, 2.8518e-02,\n",
              "           8.1691e-01, 2.7845e-01, 1.8754e-01, 5.6197e-01, 5.3158e-01],\n",
              "          [1.9523e-01, 6.2164e-01, 6.5964e-01, 5.4019e-01, 8.6123e-01,\n",
              "           4.0967e-01, 1.2691e-01, 4.2573e-01, 1.9392e-01, 6.5176e-02],\n",
              "          [1.5453e-01, 7.7903e-02, 4.0199e-01, 4.2250e-01, 7.7847e-01,\n",
              "           6.7163e-01, 6.4202e-01, 6.3035e-01, 7.8367e-01, 3.1902e-02],\n",
              "          [7.7613e-02, 4.6503e-01, 7.6185e-01, 7.7908e-01, 8.6331e-01,\n",
              "           2.8376e-01, 5.4208e-01, 3.2361e-02, 9.5843e-01, 7.9527e-01],\n",
              "          [1.3893e-01, 2.5994e-01, 7.4991e-01, 6.4937e-01, 5.1651e-01,\n",
              "           3.9906e-01, 3.7980e-01, 5.1254e-01, 7.1137e-01, 4.0731e-01],\n",
              "          [5.1271e-01, 3.0355e-01, 7.1871e-01, 5.1065e-02, 1.8187e-01,\n",
              "           7.8356e-01, 1.0741e-01, 2.3733e-01, 3.8382e-01, 6.2862e-01],\n",
              "          [1.8328e-01, 9.9263e-02, 6.9037e-01, 8.6692e-01, 4.2006e-01,\n",
              "           3.6584e-02, 9.0212e-01, 9.0828e-01, 8.2814e-02, 4.3795e-01],\n",
              "          [1.6073e-01, 3.5425e-01, 8.2681e-01, 5.7314e-01, 4.6457e-01,\n",
              "           4.4892e-01, 4.4984e-01, 6.0521e-01, 7.3682e-01, 5.3517e-01],\n",
              "          [7.1063e-02, 9.9188e-01, 3.9862e-01, 5.5771e-01, 5.1649e-01,\n",
              "           1.4329e-01, 5.3982e-01, 3.1476e-01, 5.7307e-01, 8.3986e-01],\n",
              "          [6.1790e-01, 8.8232e-01, 1.3124e-01, 7.8672e-01, 4.6695e-01,\n",
              "           8.9064e-02, 1.1716e-01, 1.5289e-02, 9.5887e-01, 2.1344e-01]],\n",
              " \n",
              "         [[4.5303e-01, 1.0140e-01, 9.1167e-01, 6.1013e-01, 5.3248e-01,\n",
              "           7.5985e-01, 8.5047e-01, 4.4427e-01, 4.0058e-02, 3.1352e-02],\n",
              "          [8.4462e-01, 4.6112e-01, 3.3109e-01, 8.1111e-01, 3.0236e-01,\n",
              "           7.1543e-02, 2.7174e-01, 2.7503e-01, 2.0011e-01, 4.5374e-01],\n",
              "          [3.6900e-01, 6.9050e-03, 9.1084e-01, 7.3028e-01, 8.2601e-01,\n",
              "           3.8560e-01, 9.5148e-02, 6.8068e-01, 6.2893e-01, 8.1110e-01],\n",
              "          [7.5561e-01, 4.0823e-01, 6.5078e-01, 1.4802e-01, 6.4944e-01,\n",
              "           7.1546e-02, 3.7351e-01, 8.3892e-02, 6.7233e-01, 3.3452e-01],\n",
              "          [7.8392e-01, 4.2128e-01, 8.3724e-01, 6.6294e-01, 6.5581e-01,\n",
              "           2.5054e-01, 6.6816e-01, 8.3434e-01, 5.9740e-01, 4.4980e-01],\n",
              "          [7.0656e-01, 7.2268e-01, 5.8928e-01, 5.8695e-01, 7.9743e-02,\n",
              "           1.5340e-01, 2.5199e-02, 3.4078e-01, 6.2492e-01, 9.3118e-01],\n",
              "          [8.4371e-01, 5.6221e-01, 3.3758e-01, 3.6069e-01, 1.5250e-01,\n",
              "           2.4216e-01, 5.1817e-01, 6.9423e-02, 8.1753e-01, 4.0347e-01],\n",
              "          [8.4151e-01, 7.4065e-01, 4.1577e-01, 3.6738e-01, 8.9808e-01,\n",
              "           9.0936e-01, 6.9194e-01, 2.4893e-02, 4.2126e-01, 9.9726e-02],\n",
              "          [7.1136e-01, 2.8131e-01, 9.2367e-01, 1.6229e-01, 2.4036e-01,\n",
              "           8.1380e-02, 1.1793e-01, 7.9825e-01, 7.6696e-01, 6.0192e-01],\n",
              "          [2.9292e-01, 2.1631e-01, 7.5440e-01, 1.2160e-01, 8.9893e-01,\n",
              "           8.5021e-01, 2.6377e-01, 3.3144e-01, 9.8885e-01, 7.9352e-01]],\n",
              " \n",
              "         [[6.5095e-01, 2.6060e-01, 8.2565e-01, 7.2864e-02, 4.2129e-01,\n",
              "           8.4845e-01, 9.9376e-01, 1.6969e-01, 2.6167e-01, 4.4835e-01],\n",
              "          [5.5096e-01, 2.3274e-01, 6.6593e-01, 7.5877e-01, 2.5293e-01,\n",
              "           9.9943e-01, 1.2142e-01, 3.1373e-01, 7.7120e-02, 6.1834e-01],\n",
              "          [6.1132e-01, 6.6635e-01, 5.6269e-01, 7.5773e-01, 9.4982e-01,\n",
              "           7.4408e-01, 7.0327e-01, 7.5178e-01, 9.3534e-01, 3.2810e-01],\n",
              "          [1.6730e-01, 8.8457e-01, 5.4509e-01, 7.5266e-01, 2.6560e-01,\n",
              "           2.1743e-01, 2.2346e-01, 5.1488e-01, 8.1652e-01, 3.3081e-01],\n",
              "          [2.3004e-01, 5.3455e-01, 7.5940e-01, 4.0104e-01, 9.4038e-01,\n",
              "           9.3644e-01, 4.5724e-01, 5.2653e-01, 1.0946e-01, 3.6687e-02],\n",
              "          [2.6275e-01, 1.3795e-01, 6.8391e-02, 9.6280e-01, 7.0742e-02,\n",
              "           9.5309e-01, 3.7808e-01, 1.3112e-01, 4.6084e-01, 9.5995e-01],\n",
              "          [5.5193e-02, 8.8984e-01, 3.1526e-01, 3.6770e-04, 7.2802e-01,\n",
              "           1.9888e-01, 8.2289e-01, 6.4801e-01, 2.8386e-01, 7.4361e-01],\n",
              "          [6.3958e-01, 6.5744e-01, 9.4059e-01, 3.6118e-01, 4.4257e-01,\n",
              "           8.0936e-01, 3.1696e-01, 6.7389e-01, 8.3876e-01, 6.3701e-01],\n",
              "          [2.6750e-01, 3.3939e-01, 7.5761e-01, 5.9170e-01, 1.7628e-01,\n",
              "           3.6749e-01, 4.8549e-01, 1.3810e-01, 4.9887e-01, 6.4385e-01],\n",
              "          [9.1948e-01, 8.9502e-03, 4.5651e-01, 8.6128e-01, 5.5086e-01,\n",
              "           8.4369e-01, 2.1005e-01, 8.4861e-01, 7.0135e-01, 6.7499e-01]],\n",
              " \n",
              "         [[8.3495e-01, 8.2181e-01, 3.8224e-01, 6.2938e-01, 5.2954e-01,\n",
              "           8.2787e-01, 8.2192e-01, 9.6870e-01, 7.1703e-01, 2.1885e-01],\n",
              "          [5.2681e-01, 7.6239e-01, 3.2390e-01, 7.7364e-01, 6.9035e-01,\n",
              "           2.8213e-01, 5.6931e-01, 1.5879e-01, 4.6763e-01, 4.4977e-01],\n",
              "          [1.2254e-01, 5.0755e-01, 2.0124e-01, 8.2588e-01, 2.0638e-01,\n",
              "           3.8877e-01, 7.0990e-01, 3.7451e-01, 1.9621e-01, 1.4220e-01],\n",
              "          [6.3242e-01, 4.2589e-01, 3.5477e-03, 9.7610e-01, 6.3710e-01,\n",
              "           6.7734e-01, 9.0545e-01, 1.9014e-02, 5.3735e-01, 2.4166e-01],\n",
              "          [2.3593e-02, 5.8457e-02, 3.3849e-01, 9.5158e-01, 4.7764e-02,\n",
              "           3.0830e-01, 7.2928e-01, 5.9236e-01, 7.4689e-01, 8.4034e-01],\n",
              "          [4.0433e-02, 3.7136e-01, 2.9829e-01, 3.7656e-01, 6.9502e-01,\n",
              "           1.5757e-01, 4.4581e-01, 9.5277e-01, 6.8534e-01, 4.2630e-01],\n",
              "          [4.1012e-01, 6.2699e-01, 9.6046e-01, 9.0636e-01, 8.2604e-01,\n",
              "           4.1837e-01, 3.4184e-01, 3.9366e-01, 7.0219e-01, 5.1383e-02],\n",
              "          [8.2494e-02, 8.6119e-01, 9.1455e-01, 6.6754e-02, 9.9704e-01,\n",
              "           6.6542e-01, 5.3913e-01, 7.3855e-01, 7.0391e-01, 4.5418e-02],\n",
              "          [6.8689e-01, 2.6560e-01, 8.7079e-01, 8.6819e-01, 3.0294e-01,\n",
              "           4.7504e-01, 7.2275e-01, 3.1147e-01, 6.5579e-01, 5.9101e-01],\n",
              "          [4.9793e-01, 8.5970e-01, 1.1931e-01, 7.6625e-01, 2.7831e-01,\n",
              "           9.5554e-02, 7.9276e-01, 2.5060e-01, 2.5322e-01, 8.1427e-01]],\n",
              " \n",
              "         [[1.3326e-01, 5.1899e-01, 8.9629e-01, 5.6815e-01, 8.2383e-01,\n",
              "           2.5031e-01, 3.2453e-01, 2.7428e-01, 5.2498e-01, 7.2059e-01],\n",
              "          [1.9453e-01, 3.3641e-01, 9.3638e-01, 3.2055e-01, 9.4650e-01,\n",
              "           8.8022e-01, 5.4424e-01, 7.2208e-01, 2.4187e-01, 6.1101e-01],\n",
              "          [1.9428e-01, 1.2026e-01, 2.9133e-01, 5.3024e-01, 2.7211e-01,\n",
              "           6.1350e-01, 2.0442e-01, 4.6339e-01, 8.8209e-01, 2.3487e-01],\n",
              "          [3.6653e-01, 2.8333e-01, 2.6567e-01, 5.3543e-01, 8.9999e-01,\n",
              "           7.7457e-01, 2.2910e-01, 8.4142e-02, 5.4767e-01, 5.8087e-01],\n",
              "          [5.4626e-01, 6.6245e-01, 8.5069e-01, 8.9689e-01, 6.1811e-01,\n",
              "           3.3712e-01, 7.6314e-01, 7.4295e-01, 3.6494e-01, 3.3502e-01],\n",
              "          [2.4132e-01, 9.1528e-01, 4.5942e-02, 6.4348e-01, 4.0721e-01,\n",
              "           6.8069e-01, 3.8614e-01, 6.7364e-01, 7.3200e-01, 5.7755e-01],\n",
              "          [4.7046e-01, 2.4533e-01, 1.6981e-01, 3.7735e-01, 6.1027e-01,\n",
              "           8.5426e-01, 9.9536e-01, 2.8354e-01, 6.8341e-01, 7.3504e-01],\n",
              "          [9.0791e-01, 4.4191e-01, 9.2666e-01, 1.7726e-01, 4.6579e-01,\n",
              "           4.3688e-01, 5.1770e-01, 8.0914e-01, 9.7634e-01, 4.9911e-01],\n",
              "          [3.7888e-02, 1.8690e-01, 1.9703e-01, 6.5246e-01, 7.3848e-02,\n",
              "           5.6240e-01, 3.3648e-01, 8.3655e-01, 3.3831e-01, 8.5886e-01],\n",
              "          [2.9292e-01, 4.0038e-01, 8.3975e-02, 8.6461e-01, 8.0338e-01,\n",
              "           8.0758e-01, 4.7036e-01, 9.4550e-01, 5.7119e-01, 2.9151e-01]],\n",
              " \n",
              "         [[2.9175e-01, 5.6691e-01, 2.5746e-01, 6.0421e-01, 5.3472e-01,\n",
              "           5.6775e-01, 9.7624e-01, 4.7538e-01, 2.6794e-01, 1.6103e-01],\n",
              "          [9.3041e-01, 3.1639e-01, 4.8506e-01, 8.5880e-01, 3.1393e-01,\n",
              "           3.6326e-01, 7.4438e-01, 9.9184e-01, 8.4061e-01, 6.2609e-01],\n",
              "          [2.4350e-01, 2.6370e-01, 6.9757e-01, 5.3580e-01, 3.3332e-01,\n",
              "           4.2975e-01, 4.3691e-01, 7.8956e-01, 9.8820e-01, 1.5560e-01],\n",
              "          [2.7602e-01, 6.1674e-01, 6.3756e-01, 8.1252e-01, 5.1346e-01,\n",
              "           5.7519e-01, 5.1132e-01, 4.9026e-01, 9.9998e-01, 7.9920e-01],\n",
              "          [7.2476e-01, 7.0507e-01, 6.9161e-01, 3.9519e-01, 7.0780e-01,\n",
              "           9.4306e-01, 4.8455e-02, 1.5892e-01, 7.4623e-01, 6.6457e-01],\n",
              "          [3.2935e-01, 2.3895e-01, 2.0353e-01, 7.9770e-01, 1.4413e-01,\n",
              "           9.5036e-01, 8.7816e-01, 5.3361e-02, 5.7188e-01, 7.2172e-01],\n",
              "          [4.3868e-01, 1.9975e-01, 2.1513e-01, 7.2744e-01, 7.7832e-01,\n",
              "           9.8506e-01, 8.8218e-01, 3.3303e-01, 7.8644e-01, 8.3879e-01],\n",
              "          [6.0544e-01, 7.7614e-01, 8.6221e-01, 4.2237e-01, 5.1912e-01,\n",
              "           6.9957e-01, 5.7083e-01, 5.8333e-01, 8.9642e-01, 6.2908e-01],\n",
              "          [3.4981e-01, 6.8821e-01, 4.2692e-01, 1.6231e-01, 6.8293e-01,\n",
              "           7.3549e-01, 9.1005e-01, 5.7907e-01, 5.8035e-01, 7.1855e-01],\n",
              "          [7.0736e-01, 2.3149e-01, 5.1783e-01, 3.8043e-02, 6.3186e-01,\n",
              "           5.4488e-01, 2.0995e-01, 3.7863e-01, 9.6857e-01, 1.0086e-01]]]),\n",
              " torch.float32)"
            ]
          },
          "metadata": {},
          "execution_count": 16
        }
      ]
    },
    {
      "cell_type": "code",
      "source": [
        "random_tensor.ndim"
      ],
      "metadata": {
        "colab": {
          "base_uri": "https://localhost:8080/"
        },
        "id": "A1WQVPfnxY36",
        "outputId": "5488b4b8-e5f3-4c82-d617-77d9fb20e980"
      },
      "execution_count": 17,
      "outputs": [
        {
          "output_type": "execute_result",
          "data": {
            "text/plain": [
              "3"
            ]
          },
          "metadata": {},
          "execution_count": 17
        }
      ]
    },
    {
      "cell_type": "code",
      "source": [
        "# Create a random tensor of size (224, 224, 3)\n",
        "random_image_size_tensor = torch.rand(size=(224, 224, 3))\n",
        "random_image_size_tensor.shape, random_image_size_tensor.ndim"
      ],
      "metadata": {
        "colab": {
          "base_uri": "https://localhost:8080/"
        },
        "id": "cdkMfMzsyr7Y",
        "outputId": "77b06fb4-9fea-4e94-fdc3-ed8bd1b90c0e"
      },
      "execution_count": 18,
      "outputs": [
        {
          "output_type": "execute_result",
          "data": {
            "text/plain": [
              "(torch.Size([224, 224, 3]), 3)"
            ]
          },
          "metadata": {},
          "execution_count": 18
        }
      ]
    },
    {
      "cell_type": "markdown",
      "source": [
        "**Zeroes and ones**"
      ],
      "metadata": {
        "id": "93Z5pZbb0oT9"
      }
    },
    {
      "cell_type": "code",
      "source": [
        "# Create a tensor of all zeros\n",
        "zeros = torch.zeros(size=(3, 4))\n",
        "zeros, zeros.dtype"
      ],
      "metadata": {
        "colab": {
          "base_uri": "https://localhost:8080/"
        },
        "id": "x8utcIhm0sHF",
        "outputId": "90c0ec45-1eb9-4ecf-8961-3147cf0b6c6f"
      },
      "execution_count": 19,
      "outputs": [
        {
          "output_type": "execute_result",
          "data": {
            "text/plain": [
              "(tensor([[0., 0., 0., 0.],\n",
              "         [0., 0., 0., 0.],\n",
              "         [0., 0., 0., 0.]]),\n",
              " torch.float32)"
            ]
          },
          "metadata": {},
          "execution_count": 19
        }
      ]
    },
    {
      "cell_type": "code",
      "source": [
        "# Create a tensor of all ones\n",
        "ones = torch.ones(size=(3, 4))\n",
        "ones, ones.dtype"
      ],
      "metadata": {
        "colab": {
          "base_uri": "https://localhost:8080/"
        },
        "id": "7inyStdA0xdD",
        "outputId": "55abde2d-de46-4f39-bde9-fa068ae1cce2"
      },
      "execution_count": 20,
      "outputs": [
        {
          "output_type": "execute_result",
          "data": {
            "text/plain": [
              "(tensor([[1., 1., 1., 1.],\n",
              "         [1., 1., 1., 1.],\n",
              "         [1., 1., 1., 1.]]),\n",
              " torch.float32)"
            ]
          },
          "metadata": {},
          "execution_count": 20
        }
      ]
    },
    {
      "cell_type": "markdown",
      "source": [
        "### Creating a range and tensors like"
      ],
      "metadata": {
        "id": "2yswTG191igr"
      }
    },
    {
      "cell_type": "code",
      "source": [
        "# Use torch.range()\n",
        "# Use torch.arange(), torch.range() is deprecated\n",
        "one_to_ten = torch.arange(start =1, end =11, step = 1)\n",
        "one_to_ten"
      ],
      "metadata": {
        "colab": {
          "base_uri": "https://localhost:8080/"
        },
        "id": "KcmF1WE307z9",
        "outputId": "604eb49e-58b7-4837-ce08-13a5041dcf20"
      },
      "execution_count": 21,
      "outputs": [
        {
          "output_type": "execute_result",
          "data": {
            "text/plain": [
              "tensor([ 1,  2,  3,  4,  5,  6,  7,  8,  9, 10])"
            ]
          },
          "metadata": {},
          "execution_count": 21
        }
      ]
    },
    {
      "cell_type": "code",
      "source": [
        "# Creating tensors like\n",
        "ten_zeros = torch.zeros_like(input = one_to_ten)\n",
        "ten_zeros"
      ],
      "metadata": {
        "colab": {
          "base_uri": "https://localhost:8080/"
        },
        "id": "2mL0SMug2IyH",
        "outputId": "4422790b-733a-4109-da12-391a0d9d3911"
      },
      "execution_count": 22,
      "outputs": [
        {
          "output_type": "execute_result",
          "data": {
            "text/plain": [
              "tensor([0, 0, 0, 0, 0, 0, 0, 0, 0, 0])"
            ]
          },
          "metadata": {},
          "execution_count": 22
        }
      ]
    },
    {
      "cell_type": "markdown",
      "source": [
        "### Tensor datatypes\n",
        "\n",
        "**Note:** Tensor datatypes is one of the 3 big errors you'll run with PyTorch & deep learning\n",
        "1. Tensors not right datatype\n",
        "2. Tensors not right shape\n",
        "3. Tensors not on the right device"
      ],
      "metadata": {
        "id": "lTqcLXzs8F2F"
      }
    },
    {
      "cell_type": "code",
      "source": [
        "# Default datatype for tensors is float32\n",
        "float_32_tensor = torch.tensor([3.0, 6.0, 9.0],\n",
        "                               dtype=None, # defaults to None, which is torch.float32 or whatever datatype is passed\n",
        "                               device=None, # defaults to None, which uses the default tensor type\n",
        "                               requires_grad=False) # if True, operations performed on the tensor are recorded\n",
        "\n",
        "float_32_tensor.shape, float_32_tensor.dtype, float_32_tensor.device"
      ],
      "metadata": {
        "colab": {
          "base_uri": "https://localhost:8080/"
        },
        "id": "7N53TzE09I_l",
        "outputId": "aca3e684-bf19-4f6f-ccb1-0eee2256c809"
      },
      "execution_count": 23,
      "outputs": [
        {
          "output_type": "execute_result",
          "data": {
            "text/plain": [
              "(torch.Size([3]), torch.float32, device(type='cpu'))"
            ]
          },
          "metadata": {},
          "execution_count": 23
        }
      ]
    },
    {
      "cell_type": "code",
      "source": [
        "float_16_tensor = torch.tensor([3.0, 6.0, 9.0],\n",
        "                               dtype=torch.float16) # torch.half would also work\n",
        "\n",
        "float_16_tensor.dtype"
      ],
      "metadata": {
        "colab": {
          "base_uri": "https://localhost:8080/"
        },
        "id": "pzk2evsz9jsv",
        "outputId": "e4c8fd37-af80-4cb8-e09d-e6f280ff10c6"
      },
      "execution_count": 24,
      "outputs": [
        {
          "output_type": "execute_result",
          "data": {
            "text/plain": [
              "torch.float16"
            ]
          },
          "metadata": {},
          "execution_count": 24
        }
      ]
    },
    {
      "cell_type": "code",
      "source": [
        "float_32_tensor*float_16_tensor"
      ],
      "metadata": {
        "colab": {
          "base_uri": "https://localhost:8080/"
        },
        "id": "YfuRVwNq_8_0",
        "outputId": "11d24744-2dd6-478d-d163-b62f3a1d7991"
      },
      "execution_count": 25,
      "outputs": [
        {
          "output_type": "execute_result",
          "data": {
            "text/plain": [
              "tensor([ 9., 36., 81.])"
            ]
          },
          "metadata": {},
          "execution_count": 25
        }
      ]
    },
    {
      "cell_type": "code",
      "source": [
        "int_32_tensor = torch.tensor([3,6,9], dtype = torch.long)\n",
        "int_32_tensor"
      ],
      "metadata": {
        "colab": {
          "base_uri": "https://localhost:8080/"
        },
        "id": "lyMsI86iBDiq",
        "outputId": "974a0efd-2180-46ae-d176-e30b1aa93560"
      },
      "execution_count": 26,
      "outputs": [
        {
          "output_type": "execute_result",
          "data": {
            "text/plain": [
              "tensor([3, 6, 9])"
            ]
          },
          "metadata": {},
          "execution_count": 26
        }
      ]
    },
    {
      "cell_type": "code",
      "source": [
        "float_32_tensor*int_32_tensor"
      ],
      "metadata": {
        "colab": {
          "base_uri": "https://localhost:8080/"
        },
        "id": "M2rif4fDBaim",
        "outputId": "e81e681b-86a7-4150-8572-54d5f33b4ae2"
      },
      "execution_count": 27,
      "outputs": [
        {
          "output_type": "execute_result",
          "data": {
            "text/plain": [
              "tensor([ 9., 36., 81.])"
            ]
          },
          "metadata": {},
          "execution_count": 27
        }
      ]
    },
    {
      "cell_type": "markdown",
      "source": [
        "### Getting information from tensors\n",
        "\n",
        "1. Tensors not right datatype - to do  get datatype from a tensor, can use tensor.dtype\n",
        "2. Tensors not right shape-to get shape from a tensor, can use tensor.shape\n",
        "3. Tensors not on the right device-to get device from a tensor,can use 'tensor.device'"
      ],
      "metadata": {
        "id": "ZlqkXFoIEFTz"
      }
    },
    {
      "cell_type": "code",
      "source": [
        "# Create a tensor\n",
        "some_tensor = torch.rand(3, 4)\n",
        "\n",
        "# Find out details about it\n",
        "print(some_tensor)\n",
        "print(f\"Shape of tensor: {some_tensor.shape}\")\n",
        "print(f\"Datatype of tensor: {some_tensor.dtype}\")\n",
        "print(f\"Device tensor is stored on: {some_tensor.device}\") # will default to CPU"
      ],
      "metadata": {
        "colab": {
          "base_uri": "https://localhost:8080/"
        },
        "id": "CnFx76W1EE3I",
        "outputId": "fb9e85e3-a1cc-4d39-c8fa-74e197e1adfd"
      },
      "execution_count": 28,
      "outputs": [
        {
          "output_type": "stream",
          "name": "stdout",
          "text": [
            "tensor([[0.3717, 0.5633, 0.2032, 0.7967],\n",
            "        [0.7811, 0.2959, 0.7997, 0.1119],\n",
            "        [0.5618, 0.7855, 0.8119, 0.6122]])\n",
            "Shape of tensor: torch.Size([3, 4])\n",
            "Datatype of tensor: torch.float32\n",
            "Device tensor is stored on: cpu\n"
          ]
        }
      ]
    },
    {
      "cell_type": "markdown",
      "source": [
        "### Manipulating Tensors(tensor operations)\n",
        "\n",
        "Tensor Operation include:\n",
        "* Addition\n",
        "* Subtraction\n",
        "* Multiplication (element-wise)\n",
        "* Division\n",
        "* Matrix multiplication"
      ],
      "metadata": {
        "id": "plJzda2bAQTX"
      }
    },
    {
      "cell_type": "code",
      "source": [
        "# Create a tensor\n",
        "tensor = torch.tensor([1,2,3])\n",
        "tensor + 10"
      ],
      "metadata": {
        "colab": {
          "base_uri": "https://localhost:8080/"
        },
        "id": "QnClb_jSBEdS",
        "outputId": "e37adbe8-3f13-4cf6-996f-a3a28f133bef"
      },
      "execution_count": 29,
      "outputs": [
        {
          "output_type": "execute_result",
          "data": {
            "text/plain": [
              "tensor([11, 12, 13])"
            ]
          },
          "metadata": {},
          "execution_count": 29
        }
      ]
    },
    {
      "cell_type": "code",
      "source": [
        "# Multiply tensor by 10\n",
        "tensor * 10"
      ],
      "metadata": {
        "colab": {
          "base_uri": "https://localhost:8080/"
        },
        "id": "ngGWsabJBSvd",
        "outputId": "ddb3f7cd-c26c-4e52-f660-d510c09ccae3"
      },
      "execution_count": 30,
      "outputs": [
        {
          "output_type": "execute_result",
          "data": {
            "text/plain": [
              "tensor([10, 20, 30])"
            ]
          },
          "metadata": {},
          "execution_count": 30
        }
      ]
    },
    {
      "cell_type": "code",
      "source": [
        "# Subtract 10\n",
        "tensor - 10"
      ],
      "metadata": {
        "colab": {
          "base_uri": "https://localhost:8080/"
        },
        "id": "EQR5-WCRBt98",
        "outputId": "79a4a946-01c5-484b-a4ec-d233205e3706"
      },
      "execution_count": 31,
      "outputs": [
        {
          "output_type": "execute_result",
          "data": {
            "text/plain": [
              "tensor([-9, -8, -7])"
            ]
          },
          "metadata": {},
          "execution_count": 31
        }
      ]
    },
    {
      "cell_type": "code",
      "source": [
        "# Try out Pytorch in-built functions\n",
        "torch.mul(tensor, 10)"
      ],
      "metadata": {
        "colab": {
          "base_uri": "https://localhost:8080/"
        },
        "id": "2BwKOj2fBzGB",
        "outputId": "4e766477-1e1e-4148-c572-c9306898e2e6"
      },
      "execution_count": 32,
      "outputs": [
        {
          "output_type": "execute_result",
          "data": {
            "text/plain": [
              "tensor([10, 20, 30])"
            ]
          },
          "metadata": {},
          "execution_count": 32
        }
      ]
    },
    {
      "cell_type": "code",
      "source": [
        "torch.add(tensor, 10)"
      ],
      "metadata": {
        "colab": {
          "base_uri": "https://localhost:8080/"
        },
        "id": "hJjBE8dnCVmH",
        "outputId": "d7bbfb2b-51db-4764-fdde-5a6ca0855194"
      },
      "execution_count": 33,
      "outputs": [
        {
          "output_type": "execute_result",
          "data": {
            "text/plain": [
              "tensor([11, 12, 13])"
            ]
          },
          "metadata": {},
          "execution_count": 33
        }
      ]
    },
    {
      "cell_type": "markdown",
      "source": [
        "### Matrix multiplication\n",
        "\n",
        "Two main ways of performing multiplication in neural networks and deep learning:\n",
        "\n",
        "\n",
        "1. Element-wise multiplication\n",
        "2. Matrix multiplication (dot product)\n",
        "\n",
        "there are two main rules that performing matrix multiplication needs to satisfy:\n",
        "1. The **inner dimensions** must match\n",
        "2. The resulting matrix has the shape of the **outer dimensions**\n"
      ],
      "metadata": {
        "id": "ojQbmc_QG6VR"
      }
    },
    {
      "cell_type": "code",
      "source": [
        "# Element wise multiplication\n",
        "print(tensor, \"*\", tensor)\n",
        "print(f\"Equals: {tensor* tensor}\")"
      ],
      "metadata": {
        "colab": {
          "base_uri": "https://localhost:8080/"
        },
        "id": "t-5FUgn2Hq9V",
        "outputId": "e0a219f0-931b-4755-eac6-3759832a65a0"
      },
      "execution_count": 34,
      "outputs": [
        {
          "output_type": "stream",
          "name": "stdout",
          "text": [
            "tensor([1, 2, 3]) * tensor([1, 2, 3])\n",
            "Equals: tensor([1, 4, 9])\n"
          ]
        }
      ]
    },
    {
      "cell_type": "code",
      "source": [
        "# Matrix multiplication\n",
        "torch.matmul(tensor, tensor)"
      ],
      "metadata": {
        "colab": {
          "base_uri": "https://localhost:8080/"
        },
        "id": "3aOcKeBfIDsV",
        "outputId": "e82be3c4-a7b2-48d3-a641-1c4bd3f139b8"
      },
      "execution_count": 35,
      "outputs": [
        {
          "output_type": "execute_result",
          "data": {
            "text/plain": [
              "tensor(14)"
            ]
          },
          "metadata": {},
          "execution_count": 35
        }
      ]
    },
    {
      "cell_type": "code",
      "source": [
        "# Can also use the \"@\" symbol for matrix multiplication, though not recommended\n",
        "tensor @ tensor"
      ],
      "metadata": {
        "colab": {
          "base_uri": "https://localhost:8080/"
        },
        "id": "u6kHn2vCI3Ow",
        "outputId": "a75c63c0-8116-4476-bc3b-2043a476adff"
      },
      "execution_count": 36,
      "outputs": [
        {
          "output_type": "execute_result",
          "data": {
            "text/plain": [
              "tensor(14)"
            ]
          },
          "metadata": {},
          "execution_count": 36
        }
      ]
    },
    {
      "cell_type": "code",
      "source": [
        "%%time\n",
        "# Matrix multiplication by hand\n",
        "# (avoid doing operations with for loops at all cost, they are computationally expensive)\n",
        "value = 0\n",
        "for i in range(len(tensor)):\n",
        "  value += tensor[i] * tensor[i]\n",
        "value"
      ],
      "metadata": {
        "colab": {
          "base_uri": "https://localhost:8080/"
        },
        "id": "RQGXeZMZI7DY",
        "outputId": "2ce53e45-6207-4ec8-9e92-9d9dd90670a5"
      },
      "execution_count": 37,
      "outputs": [
        {
          "output_type": "stream",
          "name": "stdout",
          "text": [
            "CPU times: user 1.74 ms, sys: 0 ns, total: 1.74 ms\n",
            "Wall time: 1.93 ms\n"
          ]
        },
        {
          "output_type": "execute_result",
          "data": {
            "text/plain": [
              "tensor(14)"
            ]
          },
          "metadata": {},
          "execution_count": 37
        }
      ]
    },
    {
      "cell_type": "code",
      "source": [
        "%%time\n",
        "torch.matmul(tensor, tensor)"
      ],
      "metadata": {
        "colab": {
          "base_uri": "https://localhost:8080/"
        },
        "id": "mQ7lXxQuJPQF",
        "outputId": "42f5d1b7-cc17-460f-9396-4cbee39f8286"
      },
      "execution_count": 38,
      "outputs": [
        {
          "output_type": "stream",
          "name": "stdout",
          "text": [
            "CPU times: user 1.41 ms, sys: 0 ns, total: 1.41 ms\n",
            "Wall time: 1.41 ms\n"
          ]
        },
        {
          "output_type": "execute_result",
          "data": {
            "text/plain": [
              "tensor(14)"
            ]
          },
          "metadata": {},
          "execution_count": 38
        }
      ]
    },
    {
      "cell_type": "markdown",
      "source": [
        "### One of the most common errors in deep learning (shape errors)"
      ],
      "metadata": {
        "id": "Wc1OArOrOmAY"
      }
    },
    {
      "cell_type": "code",
      "source": [
        "# Shapes need to be in the right way\n",
        "tensor_A = torch.tensor([[1, 2],\n",
        "                         [3, 4],\n",
        "                         [5, 6]], dtype=torch.float32)\n",
        "\n",
        "tensor_B = torch.tensor([[7, 10],\n",
        "                         [8, 11],\n",
        "                         [9, 12]], dtype=torch.float32)\n",
        "\n",
        "torch.matmul(tensor_A, tensor_B) # (this will error)"
      ],
      "metadata": {
        "colab": {
          "base_uri": "https://localhost:8080/",
          "height": 176
        },
        "id": "BswtChG2PucW",
        "outputId": "aeb87cd3-417d-4199-920c-4e26d3385fa3"
      },
      "execution_count": 83,
      "outputs": [
        {
          "output_type": "error",
          "ename": "RuntimeError",
          "evalue": "mat1 and mat2 shapes cannot be multiplied (3x2 and 3x2)",
          "traceback": [
            "\u001b[0;31m---------------------------------------------------------------------------\u001b[0m",
            "\u001b[0;31mRuntimeError\u001b[0m                              Traceback (most recent call last)",
            "\u001b[0;32m<ipython-input-83-aceec990e652>\u001b[0m in \u001b[0;36m<cell line: 10>\u001b[0;34m()\u001b[0m\n\u001b[1;32m      8\u001b[0m                          [9, 12]], dtype=torch.float32)\n\u001b[1;32m      9\u001b[0m \u001b[0;34m\u001b[0m\u001b[0m\n\u001b[0;32m---> 10\u001b[0;31m \u001b[0mtorch\u001b[0m\u001b[0;34m.\u001b[0m\u001b[0mmatmul\u001b[0m\u001b[0;34m(\u001b[0m\u001b[0mtensor_A\u001b[0m\u001b[0;34m,\u001b[0m \u001b[0mtensor_B\u001b[0m\u001b[0;34m)\u001b[0m \u001b[0;31m# (this will error)\u001b[0m\u001b[0;34m\u001b[0m\u001b[0;34m\u001b[0m\u001b[0m\n\u001b[0m",
            "\u001b[0;31mRuntimeError\u001b[0m: mat1 and mat2 shapes cannot be multiplied (3x2 and 3x2)"
          ]
        }
      ]
    },
    {
      "cell_type": "markdown",
      "source": [
        "To fix our tensor issues, we can manipulate the shape of one of our tensors using a **transpose**\n",
        "\n",
        "A **transpose** switches the axes or dimensions of a given tensor."
      ],
      "metadata": {
        "id": "C6xjl3FfPw54"
      }
    },
    {
      "cell_type": "code",
      "source": [
        "tensor_B.T, tensor_B.T.shape"
      ],
      "metadata": {
        "colab": {
          "base_uri": "https://localhost:8080/"
        },
        "id": "re2I65pvQZWa",
        "outputId": "4d0e75b3-3f3a-4366-cd8f-0f330fd92c5c"
      },
      "execution_count": 84,
      "outputs": [
        {
          "output_type": "execute_result",
          "data": {
            "text/plain": [
              "(tensor([[ 7.,  8.,  9.],\n",
              "         [10., 11., 12.]]),\n",
              " torch.Size([2, 3]))"
            ]
          },
          "metadata": {},
          "execution_count": 84
        }
      ]
    },
    {
      "cell_type": "code",
      "source": [
        "\n",
        "torch.matmul(tensor_A, tensor_B.T)"
      ],
      "metadata": {
        "colab": {
          "base_uri": "https://localhost:8080/"
        },
        "id": "RgbSXEn0Q1RC",
        "outputId": "a0a92b65-4880-4669-a69b-1300f260b4fb"
      },
      "execution_count": 85,
      "outputs": [
        {
          "output_type": "execute_result",
          "data": {
            "text/plain": [
              "tensor([[ 27.,  30.,  33.],\n",
              "        [ 61.,  68.,  75.],\n",
              "        [ 95., 106., 117.]])"
            ]
          },
          "metadata": {},
          "execution_count": 85
        }
      ]
    },
    {
      "cell_type": "code",
      "source": [
        "# The operation works when tensor_B is transposed\n",
        "print(f\"Original shapes: tensor_A = {tensor_A.shape}, tensor_B = {tensor_B.shape}\\n\")\n",
        "print(f\"New shapes: tensor_A = {tensor_A.shape} (same as above), tensor_B.T = {tensor_B.T.shape}\\n\")\n",
        "print(f\"Multiplying: {tensor_A.shape} * {tensor_B.T.shape} <- inner dimensions match\\n\")\n",
        "print(\"Output:\\n\")\n",
        "output = torch.matmul(tensor_A, tensor_B.T)\n",
        "print(output)\n",
        "print(f\"\\nOutput shape: {output.shape}\")"
      ],
      "metadata": {
        "colab": {
          "base_uri": "https://localhost:8080/"
        },
        "id": "LzHVufoZReaR",
        "outputId": "54659a11-df72-4f3d-8d03-af9e3b617bcd"
      },
      "execution_count": 86,
      "outputs": [
        {
          "output_type": "stream",
          "name": "stdout",
          "text": [
            "Original shapes: tensor_A = torch.Size([3, 2]), tensor_B = torch.Size([3, 2])\n",
            "\n",
            "New shapes: tensor_A = torch.Size([3, 2]) (same as above), tensor_B.T = torch.Size([2, 3])\n",
            "\n",
            "Multiplying: torch.Size([3, 2]) * torch.Size([2, 3]) <- inner dimensions match\n",
            "\n",
            "Output:\n",
            "\n",
            "tensor([[ 27.,  30.,  33.],\n",
            "        [ 61.,  68.,  75.],\n",
            "        [ 95., 106., 117.]])\n",
            "\n",
            "Output shape: torch.Size([3, 3])\n"
          ]
        }
      ]
    },
    {
      "cell_type": "code",
      "source": [
        "# torch.mm is a shortcut for matmul\n",
        "torch.mm(tensor_A, tensor_B.T)"
      ],
      "metadata": {
        "colab": {
          "base_uri": "https://localhost:8080/"
        },
        "id": "WQLqN_vWS5KM",
        "outputId": "e741102f-f97d-402a-bd67-d47148cc9e8d"
      },
      "execution_count": 87,
      "outputs": [
        {
          "output_type": "execute_result",
          "data": {
            "text/plain": [
              "tensor([[ 27.,  30.,  33.],\n",
              "        [ 61.,  68.,  75.],\n",
              "        [ 95., 106., 117.]])"
            ]
          },
          "metadata": {},
          "execution_count": 87
        }
      ]
    },
    {
      "cell_type": "markdown",
      "source": [
        "### Finding the min, max, mean, sum, etc (aggregation)"
      ],
      "metadata": {
        "id": "jgUOWZCQS6yg"
      }
    },
    {
      "cell_type": "code",
      "source": [
        "# Create a tensor\n",
        "x = torch.arange(0, 100, 10)\n",
        "x, x.dtype"
      ],
      "metadata": {
        "colab": {
          "base_uri": "https://localhost:8080/"
        },
        "id": "PFfzyvf2Tas8",
        "outputId": "cc7b604a-f19d-4468-eeba-629e34de6efc"
      },
      "execution_count": 88,
      "outputs": [
        {
          "output_type": "execute_result",
          "data": {
            "text/plain": [
              "(tensor([ 0, 10, 20, 30, 40, 50, 60, 70, 80, 90]), torch.int64)"
            ]
          },
          "metadata": {},
          "execution_count": 88
        }
      ]
    },
    {
      "cell_type": "code",
      "source": [
        "# Find the min\n",
        "torch.min(x), x.min()"
      ],
      "metadata": {
        "colab": {
          "base_uri": "https://localhost:8080/"
        },
        "id": "Q_7ZK0y_U2qz",
        "outputId": "7ee7970e-1ef7-4a76-ca42-440b96cfed43"
      },
      "execution_count": 89,
      "outputs": [
        {
          "output_type": "execute_result",
          "data": {
            "text/plain": [
              "(tensor(0), tensor(0))"
            ]
          },
          "metadata": {},
          "execution_count": 89
        }
      ]
    },
    {
      "cell_type": "code",
      "source": [
        "# Find the max\n",
        "torch.max(x), x.max()"
      ],
      "metadata": {
        "colab": {
          "base_uri": "https://localhost:8080/"
        },
        "id": "bDAS18VBVBww",
        "outputId": "d8df1cc2-977e-4fd6-d342-cfc53214b908"
      },
      "execution_count": 90,
      "outputs": [
        {
          "output_type": "execute_result",
          "data": {
            "text/plain": [
              "(tensor(90), tensor(90))"
            ]
          },
          "metadata": {},
          "execution_count": 90
        }
      ]
    },
    {
      "cell_type": "code",
      "source": [
        "# Find the mean - note: the torch.mean() function requires a tensor of float32 datatype to work\n",
        "torch.mean(x.type(torch.float32)), x.type(torch.float32).mean()"
      ],
      "metadata": {
        "colab": {
          "base_uri": "https://localhost:8080/"
        },
        "id": "af1N9H9iVI4f",
        "outputId": "fd9cd890-2b16-45ae-dc08-239c5d53fc81"
      },
      "execution_count": 91,
      "outputs": [
        {
          "output_type": "execute_result",
          "data": {
            "text/plain": [
              "(tensor(45.), tensor(45.))"
            ]
          },
          "metadata": {},
          "execution_count": 91
        }
      ]
    },
    {
      "cell_type": "code",
      "source": [
        "# Find the sum\n",
        "torch.sum(x), x.sum()"
      ],
      "metadata": {
        "colab": {
          "base_uri": "https://localhost:8080/"
        },
        "id": "LgpHxyOoVzWo",
        "outputId": "c3efc70c-cf17-4348-fa5a-2941e6f6aeea"
      },
      "execution_count": 92,
      "outputs": [
        {
          "output_type": "execute_result",
          "data": {
            "text/plain": [
              "(tensor(450), tensor(450))"
            ]
          },
          "metadata": {},
          "execution_count": 92
        }
      ]
    },
    {
      "cell_type": "markdown",
      "source": [
        "## Finding the positional min and max\n"
      ],
      "metadata": {
        "id": "-UQmK3wTVkWt"
      }
    },
    {
      "cell_type": "code",
      "source": [
        "x"
      ],
      "metadata": {
        "colab": {
          "base_uri": "https://localhost:8080/"
        },
        "id": "1DkdqcbHWU5O",
        "outputId": "68bf10e4-dc5a-4c69-b0b6-912b44af1d29"
      },
      "execution_count": 93,
      "outputs": [
        {
          "output_type": "execute_result",
          "data": {
            "text/plain": [
              "tensor([ 0, 10, 20, 30, 40, 50, 60, 70, 80, 90])"
            ]
          },
          "metadata": {},
          "execution_count": 93
        }
      ]
    },
    {
      "cell_type": "code",
      "source": [
        "x.argmin(), x.argmax()"
      ],
      "metadata": {
        "colab": {
          "base_uri": "https://localhost:8080/"
        },
        "id": "1425ddZhbCaM",
        "outputId": "d4cd2444-ae1d-4273-d40e-335494f21de1"
      },
      "execution_count": 94,
      "outputs": [
        {
          "output_type": "execute_result",
          "data": {
            "text/plain": [
              "(tensor(0), tensor(9))"
            ]
          },
          "metadata": {},
          "execution_count": 94
        }
      ]
    },
    {
      "cell_type": "code",
      "source": [
        "x[9]"
      ],
      "metadata": {
        "colab": {
          "base_uri": "https://localhost:8080/"
        },
        "id": "qwwxhG15bV0m",
        "outputId": "b43d7060-4509-4451-ae8c-95fbb0803690"
      },
      "execution_count": 95,
      "outputs": [
        {
          "output_type": "execute_result",
          "data": {
            "text/plain": [
              "tensor(90)"
            ]
          },
          "metadata": {},
          "execution_count": 95
        }
      ]
    },
    {
      "cell_type": "markdown",
      "source": [
        "## Reshaping, stacking, squeezing and unsqueezing\n",
        "\n",
        "* Reshaping - rwshapes an input to a defined shape\n",
        "* View - Return a view of an input tensor of certain shape but the same memory as the original tensor\n",
        "* Stacking - combine multiple tensors on top of each other(vstack) or side by side(hstack)\n",
        "* Squeeze - remove 1 dimension from a tensor\n",
        "* Unsqueeze - add a 1 dimension to a target tensor\n",
        "* Permute- Return a view of the input with dimensions permuted(swapped) ina certain way\n"
      ],
      "metadata": {
        "id": "yPi7SQRsb_zf"
      }
    },
    {
      "cell_type": "code",
      "source": [
        "# let's create a tensor\n",
        "import torch\n",
        "x = torch.arange(1., 10.,)\n",
        "x, x.shape"
      ],
      "metadata": {
        "colab": {
          "base_uri": "https://localhost:8080/"
        },
        "id": "a-dlJgo9d0O4",
        "outputId": "604b3775-a334-46c2-abb4-00214042429c"
      },
      "execution_count": 96,
      "outputs": [
        {
          "output_type": "execute_result",
          "data": {
            "text/plain": [
              "(tensor([1., 2., 3., 4., 5., 6., 7., 8., 9.]), torch.Size([9]))"
            ]
          },
          "metadata": {},
          "execution_count": 96
        }
      ]
    },
    {
      "cell_type": "code",
      "source": [
        "# Add an extra dimension\n",
        "x_reshaped = x.reshape(1, 9)\n",
        "x_reshaped, x_reshaped.shape"
      ],
      "metadata": {
        "colab": {
          "base_uri": "https://localhost:8080/"
        },
        "id": "RKMDTzY4w_lM",
        "outputId": "b25263ae-4c9a-4817-cca3-93b19576b538"
      },
      "execution_count": 97,
      "outputs": [
        {
          "output_type": "execute_result",
          "data": {
            "text/plain": [
              "(tensor([[1., 2., 3., 4., 5., 6., 7., 8., 9.]]), torch.Size([1, 9]))"
            ]
          },
          "metadata": {},
          "execution_count": 97
        }
      ]
    },
    {
      "cell_type": "code",
      "source": [
        "# Change the view\n",
        "z = x.view(1, 9)\n",
        "z, z.shape"
      ],
      "metadata": {
        "colab": {
          "base_uri": "https://localhost:8080/"
        },
        "id": "J4V12CTxxLrj",
        "outputId": "edc94e17-b27f-4150-de5d-e4a9f7102637"
      },
      "execution_count": 98,
      "outputs": [
        {
          "output_type": "execute_result",
          "data": {
            "text/plain": [
              "(tensor([[1., 2., 3., 4., 5., 6., 7., 8., 9.]]), torch.Size([1, 9]))"
            ]
          },
          "metadata": {},
          "execution_count": 98
        }
      ]
    },
    {
      "cell_type": "code",
      "source": [
        "# Changing z changes x(because a view of a tensor share the same memory as the original input)\n",
        "z[:, 0] = 5\n",
        "z, x"
      ],
      "metadata": {
        "colab": {
          "base_uri": "https://localhost:8080/"
        },
        "id": "g6ADZ3hkxrVQ",
        "outputId": "ece85516-4d25-473c-fe3c-746aaf1cdb54"
      },
      "execution_count": 99,
      "outputs": [
        {
          "output_type": "execute_result",
          "data": {
            "text/plain": [
              "(tensor([[5., 2., 3., 4., 5., 6., 7., 8., 9.]]),\n",
              " tensor([5., 2., 3., 4., 5., 6., 7., 8., 9.]))"
            ]
          },
          "metadata": {},
          "execution_count": 99
        }
      ]
    },
    {
      "cell_type": "code",
      "source": [
        "# Stack tensors on top of each other\n",
        "x_stacked = torch.stack([x, x, x, x], dim=1)\n",
        "x_stacked"
      ],
      "metadata": {
        "colab": {
          "base_uri": "https://localhost:8080/"
        },
        "id": "Y4H1JfmXyLVb",
        "outputId": "b817e35d-6639-40a1-a9b5-becf3f88e1df"
      },
      "execution_count": 100,
      "outputs": [
        {
          "output_type": "execute_result",
          "data": {
            "text/plain": [
              "tensor([[5., 5., 5., 5.],\n",
              "        [2., 2., 2., 2.],\n",
              "        [3., 3., 3., 3.],\n",
              "        [4., 4., 4., 4.],\n",
              "        [5., 5., 5., 5.],\n",
              "        [6., 6., 6., 6.],\n",
              "        [7., 7., 7., 7.],\n",
              "        [8., 8., 8., 8.],\n",
              "        [9., 9., 9., 9.]])"
            ]
          },
          "metadata": {},
          "execution_count": 100
        }
      ]
    },
    {
      "cell_type": "code",
      "source": [
        "# torch.squeeze() - remove all single dimensions from a target tensor\n",
        "x_reshaped"
      ],
      "metadata": {
        "colab": {
          "base_uri": "https://localhost:8080/"
        },
        "id": "a6SSUr5FykpA",
        "outputId": "8802709c-1bbd-4c71-9250-382bee0e6413"
      },
      "execution_count": 101,
      "outputs": [
        {
          "output_type": "execute_result",
          "data": {
            "text/plain": [
              "tensor([[5., 2., 3., 4., 5., 6., 7., 8., 9.]])"
            ]
          },
          "metadata": {},
          "execution_count": 101
        }
      ]
    },
    {
      "cell_type": "code",
      "source": [
        "x_reshaped.shape"
      ],
      "metadata": {
        "colab": {
          "base_uri": "https://localhost:8080/"
        },
        "id": "FxVNvYRn0r29",
        "outputId": "852bac94-86f8-4d87-d09e-2406dfaf669b"
      },
      "execution_count": 102,
      "outputs": [
        {
          "output_type": "execute_result",
          "data": {
            "text/plain": [
              "torch.Size([1, 9])"
            ]
          },
          "metadata": {},
          "execution_count": 102
        }
      ]
    },
    {
      "cell_type": "code",
      "source": [
        "x_reshaped.squeeze()"
      ],
      "metadata": {
        "colab": {
          "base_uri": "https://localhost:8080/"
        },
        "id": "rnvDo6Jp1F-t",
        "outputId": "d3fc0a03-71c8-42d4-c86e-497b6f7274b2"
      },
      "execution_count": 103,
      "outputs": [
        {
          "output_type": "execute_result",
          "data": {
            "text/plain": [
              "tensor([5., 2., 3., 4., 5., 6., 7., 8., 9.])"
            ]
          },
          "metadata": {},
          "execution_count": 103
        }
      ]
    },
    {
      "cell_type": "code",
      "source": [
        "x_reshaped.squeeze().shape"
      ],
      "metadata": {
        "colab": {
          "base_uri": "https://localhost:8080/"
        },
        "id": "zU9h_Lbp1OMf",
        "outputId": "1c1ce1eb-55a0-4c76-9139-417529adb441"
      },
      "execution_count": 104,
      "outputs": [
        {
          "output_type": "execute_result",
          "data": {
            "text/plain": [
              "torch.Size([9])"
            ]
          },
          "metadata": {},
          "execution_count": 104
        }
      ]
    },
    {
      "cell_type": "code",
      "source": [
        "# torch.squeeze() - remove all single dimensions from a target tenso\n",
        "print(f\"Previous tensor:{x_reshaped}\")\n",
        "print(f\"Previous shape: {x_reshaped.shape}\")\n",
        "\n",
        "# Remove extra dimensions from x_reshaped\n",
        "x_squeezed = x_reshaped.squeeze()\n",
        "print(f\"\\nNew tensor: {x_squeezed}\")\n",
        "print(f\"New shape: {x_squeezed.shape}\")"
      ],
      "metadata": {
        "colab": {
          "base_uri": "https://localhost:8080/"
        },
        "id": "UML8151R2COf",
        "outputId": "359b7305-1cda-4940-c3ac-fcf5c410d66f"
      },
      "execution_count": 105,
      "outputs": [
        {
          "output_type": "stream",
          "name": "stdout",
          "text": [
            "Previous tensor:tensor([[5., 2., 3., 4., 5., 6., 7., 8., 9.]])\n",
            "Previous shape: torch.Size([1, 9])\n",
            "\n",
            "New tensor: tensor([5., 2., 3., 4., 5., 6., 7., 8., 9.])\n",
            "New shape: torch.Size([9])\n"
          ]
        }
      ]
    },
    {
      "cell_type": "code",
      "source": [
        "# torch.unsqueeze() - adds a single dimension to a target tensor at a specific dim(dimension))\n",
        "print(f\"Previous target:{x_squeezed}\")\n",
        "print(f\"Previous shape: {x_squeezed.shape}\")\n",
        "\n",
        "# Add an extra dimension with unsqueeze\n",
        "x_unsqueezed = x_squeezed.unsqueeze(dim=0)\n",
        "print(f\"\\nNew tensor: {x_unsqueezed}\")\n",
        "print(f\"New shape: {x_unsqueezed.shape}\")"
      ],
      "metadata": {
        "colab": {
          "base_uri": "https://localhost:8080/"
        },
        "id": "jOX4zjTT26hO",
        "outputId": "4009d829-09e2-4cee-d400-52fdb9666b77"
      },
      "execution_count": 106,
      "outputs": [
        {
          "output_type": "stream",
          "name": "stdout",
          "text": [
            "Previous target:tensor([5., 2., 3., 4., 5., 6., 7., 8., 9.])\n",
            "Previous shape: torch.Size([9])\n",
            "\n",
            "New tensor: tensor([[5., 2., 3., 4., 5., 6., 7., 8., 9.]])\n",
            "New shape: torch.Size([1, 9])\n"
          ]
        }
      ]
    },
    {
      "cell_type": "code",
      "source": [
        "# torch.permute -rearranges the dimension of a target tensor in a specified order\n",
        "x_originnal = torch.rand(size=(224, 224, 3)) # [height, width, colour channels]\n",
        "\n",
        "# Permute the original tensor to rearrange the axis(or dim) order\n",
        "x_permuted = x_originnal.permute(2, 0, 1) # shifts axis 0->1, 1->2, 2->0 # Use x_originnal here\n",
        "\n",
        "print(f\"Previous shape: {x_originnal.shape}\") # Use x_originnal here\n",
        "print(f\"New shape: {x_permuted.shape}\")"
      ],
      "metadata": {
        "colab": {
          "base_uri": "https://localhost:8080/"
        },
        "id": "5TP9ZQvT5c8N",
        "outputId": "138830e3-0cf1-49b6-96ac-72ecab624eec"
      },
      "execution_count": 107,
      "outputs": [
        {
          "output_type": "stream",
          "name": "stdout",
          "text": [
            "Previous shape: torch.Size([224, 224, 3])\n",
            "New shape: torch.Size([3, 224, 224])\n"
          ]
        }
      ]
    },
    {
      "cell_type": "markdown",
      "source": [
        "## Indexing (selecting data from tensors)\n",
        "\n",
        "Indexing with PyTorch is similar to indexing with NumPy"
      ],
      "metadata": {
        "id": "xbKCcfW66Oef"
      }
    },
    {
      "cell_type": "code",
      "source": [
        "# Create a tensor\n",
        "import torch\n",
        "x = torch.arange(1, 10).reshape(1, 3, 3)\n",
        "x, x.shape"
      ],
      "metadata": {
        "colab": {
          "base_uri": "https://localhost:8080/"
        },
        "id": "XF1i4ZVw6bFg",
        "outputId": "9fa0baf4-1a3d-4006-8b79-930acdaf696e"
      },
      "execution_count": 108,
      "outputs": [
        {
          "output_type": "execute_result",
          "data": {
            "text/plain": [
              "(tensor([[[1, 2, 3],\n",
              "          [4, 5, 6],\n",
              "          [7, 8, 9]]]),\n",
              " torch.Size([1, 3, 3]))"
            ]
          },
          "metadata": {},
          "execution_count": 108
        }
      ]
    },
    {
      "cell_type": "code",
      "source": [
        "# Let's index bracket by bracket\n",
        "print(f\"First square bracket:\\n{x[0]}\")\n",
        "print(f\"Second square bracket: {x[0][0]}\")\n",
        "print(f\"Third square bracket: {x[0][0][0]}\")"
      ],
      "metadata": {
        "colab": {
          "base_uri": "https://localhost:8080/"
        },
        "id": "Ua9BuNMh6sN3",
        "outputId": "68882e3c-27ba-4cf0-bfa8-bb5fa9ebaf62"
      },
      "execution_count": 109,
      "outputs": [
        {
          "output_type": "stream",
          "name": "stdout",
          "text": [
            "First square bracket:\n",
            "tensor([[1, 2, 3],\n",
            "        [4, 5, 6],\n",
            "        [7, 8, 9]])\n",
            "Second square bracket: tensor([1, 2, 3])\n",
            "Third square bracket: 1\n"
          ]
        }
      ]
    },
    {
      "cell_type": "code",
      "source": [
        "# Get all values of 0th dimension and the 0 index of 1st dimension\n",
        "x[:, 0]"
      ],
      "metadata": {
        "colab": {
          "base_uri": "https://localhost:8080/"
        },
        "id": "uCTkPUmWEhQ1",
        "outputId": "295b566a-90c3-46a9-8039-d9123f895a0d"
      },
      "execution_count": 110,
      "outputs": [
        {
          "output_type": "execute_result",
          "data": {
            "text/plain": [
              "tensor([[1, 2, 3]])"
            ]
          },
          "metadata": {},
          "execution_count": 110
        }
      ]
    },
    {
      "cell_type": "code",
      "source": [
        "# Get all values of 0th dimension and the 0 index of 1st dimension\n",
        "x[:, 0]"
      ],
      "metadata": {
        "colab": {
          "base_uri": "https://localhost:8080/"
        },
        "id": "cfE6u-XlYb4C",
        "outputId": "0f99a89d-37ff-47fc-924c-cb5f054e3387"
      },
      "execution_count": 111,
      "outputs": [
        {
          "output_type": "execute_result",
          "data": {
            "text/plain": [
              "tensor([[1, 2, 3]])"
            ]
          },
          "metadata": {},
          "execution_count": 111
        }
      ]
    },
    {
      "cell_type": "code",
      "source": [
        "# Get all values of 0th & 1st dimensions but only index 1 of 2nd dimension\n",
        "x[:, :, 1]"
      ],
      "metadata": {
        "colab": {
          "base_uri": "https://localhost:8080/"
        },
        "id": "10wvVUx0YdQu",
        "outputId": "7351c0ea-4a00-4b4d-876a-0e86e7885145"
      },
      "execution_count": 112,
      "outputs": [
        {
          "output_type": "execute_result",
          "data": {
            "text/plain": [
              "tensor([[2, 5, 8]])"
            ]
          },
          "metadata": {},
          "execution_count": 112
        }
      ]
    },
    {
      "cell_type": "code",
      "source": [
        "# Get all values of the 0 dimension but only the 1 index value of the 1st and 2nd dimension\n",
        "x[:, 1, 1]"
      ],
      "metadata": {
        "colab": {
          "base_uri": "https://localhost:8080/"
        },
        "id": "lcWydGSqYow-",
        "outputId": "a8ebab51-819c-40da-8f89-dfc067e6bf22"
      },
      "execution_count": 113,
      "outputs": [
        {
          "output_type": "execute_result",
          "data": {
            "text/plain": [
              "tensor([5])"
            ]
          },
          "metadata": {},
          "execution_count": 113
        }
      ]
    },
    {
      "cell_type": "code",
      "source": [
        "# Get index 0 of 0th and 1st dimension and all values of 2nd dimension\n",
        "x[0, 0, :] # same as x[0][0]"
      ],
      "metadata": {
        "colab": {
          "base_uri": "https://localhost:8080/"
        },
        "id": "fNjiDDgqYuC9",
        "outputId": "fec9f46a-48f4-43bb-d0c8-103ccba8772c"
      },
      "execution_count": 114,
      "outputs": [
        {
          "output_type": "execute_result",
          "data": {
            "text/plain": [
              "tensor([1, 2, 3])"
            ]
          },
          "metadata": {},
          "execution_count": 114
        }
      ]
    },
    {
      "cell_type": "markdown",
      "source": [
        "## Pytorch tensors & NumPy\n",
        "\n",
        "NumPy is a popular scientific Python numerical computing library.\n",
        "\n",
        "And because of this, PyTorch has functionality to interact with it.\n",
        "\n",
        "* Data in NumPy, want in PyTorch tensor ->  torch.from_numpy(ndarray)\n",
        "* PyTorch tensor -> NumPy -> `torch.Tensor.numpy()`\n",
        "\n"
      ],
      "metadata": {
        "id": "PCQeaFnSY7xe"
      }
    },
    {
      "cell_type": "code",
      "source": [
        "# NumPy array to tensor\n",
        "import torch\n",
        "import numpy as np\n",
        "array = np.arange(1.0, 8.0)\n",
        "tensor = torch.from_numpy(array)#warning: when converting from numpy -> pytorch, pytorch reflects numpy's default datatype of float64 unless specified otherwise\n",
        "array, tensor"
      ],
      "metadata": {
        "colab": {
          "base_uri": "https://localhost:8080/"
        },
        "id": "uziT1xl-aYxe",
        "outputId": "326857e9-56b5-40c9-a6d0-a2f9f973a19b"
      },
      "execution_count": 115,
      "outputs": [
        {
          "output_type": "execute_result",
          "data": {
            "text/plain": [
              "(array([1., 2., 3., 4., 5., 6., 7.]),\n",
              " tensor([1., 2., 3., 4., 5., 6., 7.], dtype=torch.float64))"
            ]
          },
          "metadata": {},
          "execution_count": 115
        }
      ]
    },
    {
      "cell_type": "code",
      "source": [
        "# Change the array, keep the tensor\n",
        "array = array + 1\n",
        "array, tensor"
      ],
      "metadata": {
        "colab": {
          "base_uri": "https://localhost:8080/"
        },
        "id": "dftm3RtTbIDv",
        "outputId": "6ea4b65a-5648-4362-8356-a72767d76ff9"
      },
      "execution_count": 116,
      "outputs": [
        {
          "output_type": "execute_result",
          "data": {
            "text/plain": [
              "(array([2., 3., 4., 5., 6., 7., 8.]),\n",
              " tensor([1., 2., 3., 4., 5., 6., 7.], dtype=torch.float64))"
            ]
          },
          "metadata": {},
          "execution_count": 116
        }
      ]
    },
    {
      "cell_type": "code",
      "source": [
        "# Tensor to NumPy array\n",
        "tensor = torch.ones(7) # create a tensor of ones with dtype=float32\n",
        "numpy_tensor = tensor.numpy() # will be dtype=float32 unless changed\n",
        "tensor, numpy_tensor"
      ],
      "metadata": {
        "colab": {
          "base_uri": "https://localhost:8080/"
        },
        "id": "dSd03-tQciCz",
        "outputId": "33356eb9-1176-477b-9780-6104cc0911d7"
      },
      "execution_count": 117,
      "outputs": [
        {
          "output_type": "execute_result",
          "data": {
            "text/plain": [
              "(tensor([1., 1., 1., 1., 1., 1., 1.]),\n",
              " array([1., 1., 1., 1., 1., 1., 1.], dtype=float32))"
            ]
          },
          "metadata": {},
          "execution_count": 117
        }
      ]
    },
    {
      "cell_type": "code",
      "source": [
        "# Change the tensor, keep the array the same\n",
        "tensor = tensor + 1\n",
        "tensor, numpy_tensor"
      ],
      "metadata": {
        "colab": {
          "base_uri": "https://localhost:8080/"
        },
        "id": "i8Uyvzd6coB3",
        "outputId": "eee16346-75b2-449b-e093-d85223059eba"
      },
      "execution_count": 118,
      "outputs": [
        {
          "output_type": "execute_result",
          "data": {
            "text/plain": [
              "(tensor([2., 2., 2., 2., 2., 2., 2.]),\n",
              " array([1., 1., 1., 1., 1., 1., 1.], dtype=float32))"
            ]
          },
          "metadata": {},
          "execution_count": 118
        }
      ]
    },
    {
      "cell_type": "markdown",
      "source": [
        "**\n",
        "Reproducibility (trying to take the random out of random)**\n",
        "\n",
        "In short how a neural network learns:\n",
        "\n",
        "`start with random numbers -> tensor operations -> update random numbers to try and make them better representations of the data -> again -> again -> again..`\n",
        "\n",
        "To reduce the randomness in neural networks and PyTorch comes the concept of a **random seed**\n",
        "\n",
        "Essentially what the random seed does is \"flavour\" the randomness"
      ],
      "metadata": {
        "id": "TyQrYlcYc1XW"
      }
    },
    {
      "cell_type": "code",
      "source": [
        "import torch\n",
        "\n",
        "# Create two random tensors\n",
        "random_tensor_A = torch.rand(3, 4)\n",
        "random_tensor_B = torch.rand(3, 4)\n",
        "\n",
        "print(f\"Tensor A:\\n{random_tensor_A}\\n\")\n",
        "print(f\"Tensor B:\\n{random_tensor_B}\\n\")\n",
        "print(f\"Does Tensor A equal Tensor B? (anywhere)\")\n",
        "random_tensor_A == random_tensor_B"
      ],
      "metadata": {
        "colab": {
          "base_uri": "https://localhost:8080/"
        },
        "id": "FgXJbfIxc6WU",
        "outputId": "e13c7675-4264-474b-d794-b4121ea2f444"
      },
      "execution_count": 119,
      "outputs": [
        {
          "output_type": "stream",
          "name": "stdout",
          "text": [
            "Tensor A:\n",
            "tensor([[0.2933, 0.5889, 0.4117, 0.0992],\n",
            "        [0.3078, 0.7786, 0.8016, 0.3649],\n",
            "        [0.6286, 0.9663, 0.7687, 0.4566]])\n",
            "\n",
            "Tensor B:\n",
            "tensor([[0.5745, 0.9200, 0.3230, 0.8613],\n",
            "        [0.0919, 0.3102, 0.9536, 0.6002],\n",
            "        [0.0351, 0.6826, 0.3743, 0.5220]])\n",
            "\n",
            "Does Tensor A equal Tensor B? (anywhere)\n"
          ]
        },
        {
          "output_type": "execute_result",
          "data": {
            "text/plain": [
              "tensor([[False, False, False, False],\n",
              "        [False, False, False, False],\n",
              "        [False, False, False, False]])"
            ]
          },
          "metadata": {},
          "execution_count": 119
        }
      ]
    },
    {
      "cell_type": "code",
      "source": [
        "import torch\n",
        "import random\n",
        "\n",
        "# # Set the random seed\n",
        "RANDOM_SEED=42 # try changing this to different values and see what happens to the numbers below\n",
        "torch.manual_seed(seed=RANDOM_SEED)\n",
        "random_tensor_C = torch.rand(3, 4)\n",
        "\n",
        "# Have to reset the seed every time a new rand() is called\n",
        "# Without this, tensor_D would be different to tensor_C\n",
        "torch.random.manual_seed(seed=RANDOM_SEED) # try commenting this line out and seeing what happens\n",
        "random_tensor_D = torch.rand(3, 4)\n",
        "\n",
        "print(f\"Tensor C:\\n{random_tensor_C}\\n\")\n",
        "print(f\"Tensor D:\\n{random_tensor_D}\\n\")\n",
        "print(f\"Does Tensor C equal Tensor D? (anywhere)\")\n",
        "random_tensor_C == random_tensor_D"
      ],
      "metadata": {
        "colab": {
          "base_uri": "https://localhost:8080/"
        },
        "id": "btfHLMySgVOe",
        "outputId": "759574c6-6b7b-440f-cee4-cd5a85637aa9"
      },
      "execution_count": 120,
      "outputs": [
        {
          "output_type": "stream",
          "name": "stdout",
          "text": [
            "Tensor C:\n",
            "tensor([[0.8823, 0.9150, 0.3829, 0.9593],\n",
            "        [0.3904, 0.6009, 0.2566, 0.7936],\n",
            "        [0.9408, 0.1332, 0.9346, 0.5936]])\n",
            "\n",
            "Tensor D:\n",
            "tensor([[0.8823, 0.9150, 0.3829, 0.9593],\n",
            "        [0.3904, 0.6009, 0.2566, 0.7936],\n",
            "        [0.9408, 0.1332, 0.9346, 0.5936]])\n",
            "\n",
            "Does Tensor C equal Tensor D? (anywhere)\n"
          ]
        },
        {
          "output_type": "execute_result",
          "data": {
            "text/plain": [
              "tensor([[True, True, True, True],\n",
              "        [True, True, True, True],\n",
              "        [True, True, True, True]])"
            ]
          },
          "metadata": {},
          "execution_count": 120
        }
      ]
    },
    {
      "cell_type": "markdown",
      "source": [
        "1.Running tensors on GPUs (and making faster computations)"
      ],
      "metadata": {
        "id": "zg0RQHonk6o7"
      }
    },
    {
      "cell_type": "code",
      "source": [
        "!nvidia-smi"
      ],
      "metadata": {
        "colab": {
          "base_uri": "https://localhost:8080/"
        },
        "id": "U-7JyVulk1yJ",
        "outputId": "8f9627a0-497c-42ad-fb6a-5d8a9c45b29d"
      },
      "execution_count": 121,
      "outputs": [
        {
          "output_type": "stream",
          "name": "stdout",
          "text": [
            "Wed Jul 10 14:45:33 2024       \n",
            "+---------------------------------------------------------------------------------------+\n",
            "| NVIDIA-SMI 535.104.05             Driver Version: 535.104.05   CUDA Version: 12.2     |\n",
            "|-----------------------------------------+----------------------+----------------------+\n",
            "| GPU  Name                 Persistence-M | Bus-Id        Disp.A | Volatile Uncorr. ECC |\n",
            "| Fan  Temp   Perf          Pwr:Usage/Cap |         Memory-Usage | GPU-Util  Compute M. |\n",
            "|                                         |                      |               MIG M. |\n",
            "|=========================================+======================+======================|\n",
            "|   0  Tesla T4                       Off | 00000000:00:04.0 Off |                    0 |\n",
            "| N/A   47C    P0              27W /  70W |    105MiB / 15360MiB |      0%      Default |\n",
            "|                                         |                      |                  N/A |\n",
            "+-----------------------------------------+----------------------+----------------------+\n",
            "                                                                                         \n",
            "+---------------------------------------------------------------------------------------+\n",
            "| Processes:                                                                            |\n",
            "|  GPU   GI   CI        PID   Type   Process name                            GPU Memory |\n",
            "|        ID   ID                                                             Usage      |\n",
            "|=======================================================================================|\n",
            "+---------------------------------------------------------------------------------------+\n"
          ]
        }
      ]
    },
    {
      "cell_type": "markdown",
      "source": [
        "2.Getting PyTorch to run on the GPU"
      ],
      "metadata": {
        "id": "H0ePjoQRlDxc"
      }
    },
    {
      "cell_type": "code",
      "source": [
        "# Check for GPU\n",
        "import torch\n",
        "torch.cuda.is_available()"
      ],
      "metadata": {
        "colab": {
          "base_uri": "https://localhost:8080/"
        },
        "id": "32G-uOI0k3pU",
        "outputId": "eb621b3f-41f3-49f5-de76-96d08a570d1c"
      },
      "execution_count": 122,
      "outputs": [
        {
          "output_type": "execute_result",
          "data": {
            "text/plain": [
              "True"
            ]
          },
          "metadata": {},
          "execution_count": 122
        }
      ]
    },
    {
      "cell_type": "code",
      "source": [
        "# Set device type\n",
        "device = \"cuda\" if torch.cuda.is_available() else \"cpu\"\n",
        "device"
      ],
      "metadata": {
        "colab": {
          "base_uri": "https://localhost:8080/",
          "height": 35
        },
        "id": "j2veAl2JlMF4",
        "outputId": "189111a3-3a83-49a5-dde3-fbc956fd903e"
      },
      "execution_count": 123,
      "outputs": [
        {
          "output_type": "execute_result",
          "data": {
            "text/plain": [
              "'cuda'"
            ],
            "application/vnd.google.colaboratory.intrinsic+json": {
              "type": "string"
            }
          },
          "metadata": {},
          "execution_count": 123
        }
      ]
    },
    {
      "cell_type": "code",
      "source": [
        "# Count number of devices\n",
        "torch.cuda.device_count()"
      ],
      "metadata": {
        "colab": {
          "base_uri": "https://localhost:8080/"
        },
        "id": "XGK0CGOclSTG",
        "outputId": "3fedd71e-11d6-445a-9665-1ecdd542d1ac"
      },
      "execution_count": 124,
      "outputs": [
        {
          "output_type": "execute_result",
          "data": {
            "text/plain": [
              "1"
            ]
          },
          "metadata": {},
          "execution_count": 124
        }
      ]
    },
    {
      "cell_type": "markdown",
      "source": [
        "3. Putting tensors(and models) on the GPU\n",
        "\n",
        "the reason we want our tensors/models on thr GPU is because a GPU results in faster computations"
      ],
      "metadata": {
        "id": "gS6268RJmCkL"
      }
    },
    {
      "cell_type": "code",
      "source": [
        "# Create a tensor(default on the CPU)\n",
        "tensor = torch.tensor([1, 2, 3])\n",
        "\n",
        "# Tensor not on GPU\n",
        "print(tensor, tensor.device)\n",
        "\n",
        "# Move tensor to GPU (if available)\n",
        "tensor_on_gpu = tensor.to(device)\n",
        "tensor_on_gpu"
      ],
      "metadata": {
        "colab": {
          "base_uri": "https://localhost:8080/"
        },
        "id": "qi651YwTmWta",
        "outputId": "6587ab18-dc33-4d09-f832-d80ee19d0756"
      },
      "execution_count": 126,
      "outputs": [
        {
          "output_type": "stream",
          "name": "stdout",
          "text": [
            "tensor([1, 2, 3]) cpu\n"
          ]
        },
        {
          "output_type": "execute_result",
          "data": {
            "text/plain": [
              "tensor([1, 2, 3], device='cuda:0')"
            ]
          },
          "metadata": {},
          "execution_count": 126
        }
      ]
    },
    {
      "cell_type": "markdown",
      "source": [
        "4. Moving tensors back to the CPU"
      ],
      "metadata": {
        "id": "ClwskEuXHGq7"
      }
    },
    {
      "cell_type": "code",
      "source": [
        "# If tensor is on GPU, can't transform it to NumPy (this will error)\n",
        "tensor_on_gpu.numpy()"
      ],
      "metadata": {
        "colab": {
          "base_uri": "https://localhost:8080/",
          "height": 176
        },
        "id": "B2uPfazXHI7H",
        "outputId": "bf17a1fc-1c00-48cc-b17d-3371c4b19e38"
      },
      "execution_count": 127,
      "outputs": [
        {
          "output_type": "error",
          "ename": "TypeError",
          "evalue": "can't convert cuda:0 device type tensor to numpy. Use Tensor.cpu() to copy the tensor to host memory first.",
          "traceback": [
            "\u001b[0;31m---------------------------------------------------------------------------\u001b[0m",
            "\u001b[0;31mTypeError\u001b[0m                                 Traceback (most recent call last)",
            "\u001b[0;32m<ipython-input-127-53175578f49e>\u001b[0m in \u001b[0;36m<cell line: 2>\u001b[0;34m()\u001b[0m\n\u001b[1;32m      1\u001b[0m \u001b[0;31m# If tensor is on GPU, can't transform it to NumPy (this will error)\u001b[0m\u001b[0;34m\u001b[0m\u001b[0;34m\u001b[0m\u001b[0m\n\u001b[0;32m----> 2\u001b[0;31m \u001b[0mtensor_on_gpu\u001b[0m\u001b[0;34m.\u001b[0m\u001b[0mnumpy\u001b[0m\u001b[0;34m(\u001b[0m\u001b[0;34m)\u001b[0m\u001b[0;34m\u001b[0m\u001b[0;34m\u001b[0m\u001b[0m\n\u001b[0m",
            "\u001b[0;31mTypeError\u001b[0m: can't convert cuda:0 device type tensor to numpy. Use Tensor.cpu() to copy the tensor to host memory first."
          ]
        }
      ]
    },
    {
      "cell_type": "code",
      "source": [
        "# Instead, copy the tensor back to cpu\n",
        "tensor_back_on_cpu = tensor_on_gpu.cpu().numpy()\n",
        "tensor_back_on_cpu"
      ],
      "metadata": {
        "colab": {
          "base_uri": "https://localhost:8080/"
        },
        "id": "eQ8RmMIUHOEO",
        "outputId": "efd95fe4-91b6-40b1-af88-31ff2b11b261"
      },
      "execution_count": 128,
      "outputs": [
        {
          "output_type": "execute_result",
          "data": {
            "text/plain": [
              "array([1, 2, 3])"
            ]
          },
          "metadata": {},
          "execution_count": 128
        }
      ]
    },
    {
      "cell_type": "code",
      "source": [
        "tensor_on_gpu"
      ],
      "metadata": {
        "colab": {
          "base_uri": "https://localhost:8080/"
        },
        "id": "r19RJEuXHnke",
        "outputId": "c51f5765-5b6f-4eeb-f864-b9e1f608e047"
      },
      "execution_count": 129,
      "outputs": [
        {
          "output_type": "execute_result",
          "data": {
            "text/plain": [
              "tensor([1, 2, 3], device='cuda:0')"
            ]
          },
          "metadata": {},
          "execution_count": 129
        }
      ]
    },
    {
      "cell_type": "markdown",
      "source": [
        "**Exercises**"
      ],
      "metadata": {
        "id": "TQpb6g9rIGZp"
      }
    },
    {
      "cell_type": "code",
      "source": [
        "# Create a random tensor with shape (7, 7).\n",
        "# Import torch\n",
        "import torch\n",
        "\n",
        "# Create random tensor\n",
        "X = torch.rand(size=(7, 7))\n",
        "X, X.shape\n",
        ""
      ],
      "metadata": {
        "colab": {
          "base_uri": "https://localhost:8080/"
        },
        "id": "dmLp4-wFIKAm",
        "outputId": "6d68a177-b352-47c9-cd44-586eea6b2dba"
      },
      "execution_count": 130,
      "outputs": [
        {
          "output_type": "execute_result",
          "data": {
            "text/plain": [
              "(tensor([[0.8694, 0.5677, 0.7411, 0.4294, 0.8854, 0.5739, 0.2666],\n",
              "         [0.6274, 0.2696, 0.4414, 0.2969, 0.8317, 0.1053, 0.2695],\n",
              "         [0.3588, 0.1994, 0.5472, 0.0062, 0.9516, 0.0753, 0.8860],\n",
              "         [0.5832, 0.3376, 0.8090, 0.5779, 0.9040, 0.5547, 0.3423],\n",
              "         [0.6343, 0.3644, 0.7104, 0.9464, 0.7890, 0.2814, 0.7886],\n",
              "         [0.5895, 0.7539, 0.1952, 0.0050, 0.3068, 0.1165, 0.9103],\n",
              "         [0.6440, 0.7071, 0.6581, 0.4913, 0.8913, 0.1447, 0.5315]]),\n",
              " torch.Size([7, 7]))"
            ]
          },
          "metadata": {},
          "execution_count": 130
        }
      ]
    },
    {
      "cell_type": "code",
      "source": [
        "# Set the random seed to 0 and do 2 & 3 over again.\n",
        "# Set manual seed\n",
        "torch.manual_seed(0)\n",
        "\n",
        "# Create two random tensors\n",
        "X = torch.rand(size=(7, 7))\n",
        "Y = torch.rand(size=(1, 7))\n",
        "\n",
        "# Matrix multiply tensors\n",
        "Z = torch.matmul(X, Y.T)\n",
        "Z, Z.shape"
      ],
      "metadata": {
        "colab": {
          "base_uri": "https://localhost:8080/"
        },
        "id": "Jlg2lzjtIS0P",
        "outputId": "f0686e64-75b0-4c9a-d10b-5e0134a8c0bc"
      },
      "execution_count": 131,
      "outputs": [
        {
          "output_type": "execute_result",
          "data": {
            "text/plain": [
              "(tensor([[1.8542],\n",
              "         [1.9611],\n",
              "         [2.2884],\n",
              "         [3.0481],\n",
              "         [1.7067],\n",
              "         [2.5290],\n",
              "         [1.7989]]),\n",
              " torch.Size([7, 1]))"
            ]
          },
          "metadata": {},
          "execution_count": 131
        }
      ]
    },
    {
      "cell_type": "code",
      "source": [
        "# Speaking of random seeds, we saw how to set it with torch.manual_seed() but is there a GPU equivalent? (hint: you'll need to look into the documentation for torch.cuda for this one)\n",
        "# Set random seed on the GPU\n",
        "torch.cuda.manual_seed(1234)"
      ],
      "metadata": {
        "id": "eAjPJcT0IlMD"
      },
      "execution_count": 132,
      "outputs": []
    },
    {
      "cell_type": "code",
      "source": [
        "# Create two random tensors of shape (2, 3) and send them both to the GPU (you'll need access to a GPU for this). Set torch.manual_seed(1234) when creating the tensors\n",
        "# Set random seed\n",
        "torch.manual_seed(1234)\n",
        "\n",
        "# Check for access to GPU\n",
        "device = \"cuda\" if torch.cuda.is_available() else \"cpu\"\n",
        "print(f\"Device: {device}\")\n",
        "\n",
        "# Create two random tensors on GPU\n",
        "tensor_A = torch.rand(size=(2,3)).to(device)\n",
        "tensor_B = torch.rand(size=(2,3)).to(device)\n",
        "tensor_A, tensor_B"
      ],
      "metadata": {
        "colab": {
          "base_uri": "https://localhost:8080/"
        },
        "id": "sDhtRVYDIvE3",
        "outputId": "1c94b5be-a54c-4ece-fb45-6094adf132f1"
      },
      "execution_count": 133,
      "outputs": [
        {
          "output_type": "stream",
          "name": "stdout",
          "text": [
            "Device: cuda\n"
          ]
        },
        {
          "output_type": "execute_result",
          "data": {
            "text/plain": [
              "(tensor([[0.0290, 0.4019, 0.2598],\n",
              "         [0.3666, 0.0583, 0.7006]], device='cuda:0'),\n",
              " tensor([[0.0518, 0.4681, 0.6738],\n",
              "         [0.3315, 0.7837, 0.5631]], device='cuda:0'))"
            ]
          },
          "metadata": {},
          "execution_count": 133
        }
      ]
    },
    {
      "cell_type": "code",
      "source": [
        "#  Perform a matrix multiplication on the tensors you created in 6 (again, you may have to adjust the shapes of one of the tensors).\n",
        "# Perform matmul on tensor_A and tensor_B\n",
        "# tensor_C = torch.matmul(tensor_A, tensor_B) # won't work because of shape error\n",
        "tensor_C = torch.matmul(tensor_A, tensor_B.T)\n",
        "tensor_C, tensor_C.shape"
      ],
      "metadata": {
        "colab": {
          "base_uri": "https://localhost:8080/"
        },
        "id": "ca-rQbDyJE2L",
        "outputId": "e3b0587f-0053-4998-d11a-5da23b075ffa"
      },
      "execution_count": 134,
      "outputs": [
        {
          "output_type": "execute_result",
          "data": {
            "text/plain": [
              "(tensor([[0.3647, 0.4709],\n",
              "         [0.5184, 0.5617]], device='cuda:0'),\n",
              " torch.Size([2, 2]))"
            ]
          },
          "metadata": {},
          "execution_count": 134
        }
      ]
    },
    {
      "cell_type": "code",
      "source": [
        "# Find the maximum and minimum values of the output of 7\n",
        "# Find max\n",
        "max = torch.max(tensor_C)\n",
        "\n",
        "# Find min\n",
        "min = torch.min(tensor_C)\n",
        "max, min"
      ],
      "metadata": {
        "colab": {
          "base_uri": "https://localhost:8080/"
        },
        "id": "I22ytGwgJPjS",
        "outputId": "b86dfc3d-c1d6-4fd6-8c9a-82223a810ddd"
      },
      "execution_count": 136,
      "outputs": [
        {
          "output_type": "execute_result",
          "data": {
            "text/plain": [
              "(tensor(0.5617, device='cuda:0'), tensor(0.3647, device='cuda:0'))"
            ]
          },
          "metadata": {},
          "execution_count": 136
        }
      ]
    },
    {
      "cell_type": "code",
      "source": [
        "# Find the maximum and minimum index values of the output of 7.\n",
        "# Find arg max\n",
        "arg_max = torch.argmax(tensor_C)\n",
        "\n",
        "# Find arg min\n",
        "arg_min = torch.argmin(tensor_C)\n",
        "arg_max, arg_min"
      ],
      "metadata": {
        "colab": {
          "base_uri": "https://localhost:8080/"
        },
        "id": "bvvqO0BCJXTi",
        "outputId": "97ac68a9-658f-4bb2-b793-bec3a007c8f0"
      },
      "execution_count": 137,
      "outputs": [
        {
          "output_type": "execute_result",
          "data": {
            "text/plain": [
              "(tensor(3, device='cuda:0'), tensor(0, device='cuda:0'))"
            ]
          },
          "metadata": {},
          "execution_count": 137
        }
      ]
    },
    {
      "cell_type": "markdown",
      "source": [
        " Make a random tensor with shape (1, 1, 1, 10) and then create a new tensor with all the 1 dimensions removed to be left with a tensor of shape (10). Set the seed to 7 when you create it and print out the first tensor and it's shape as well as the second tensor and it's shape."
      ],
      "metadata": {
        "id": "YcNJ6Mj6JhBx"
      }
    },
    {
      "cell_type": "code",
      "source": [
        "# Set seed\n",
        "torch.manual_seed(7)\n",
        "\n",
        "# Create random tensor\n",
        "tensor_D = torch.rand(size=(1, 1, 1, 10))\n",
        "\n",
        "# Remove single dimensions\n",
        "tensor_E = tensor_D.squeeze()\n",
        "\n",
        "# Print out tensors\n",
        "print(tensor_D, tensor_D.shape)\n",
        "print(tensor_E, tensor_E.shape)"
      ],
      "metadata": {
        "colab": {
          "base_uri": "https://localhost:8080/"
        },
        "id": "IRtInOVXJfFE",
        "outputId": "34082572-0205-42f8-8ed5-5e0467e89dc7"
      },
      "execution_count": 138,
      "outputs": [
        {
          "output_type": "stream",
          "name": "stdout",
          "text": [
            "tensor([[[[0.5349, 0.1988, 0.6592, 0.6569, 0.2328, 0.4251, 0.2071, 0.6297,\n",
            "           0.3653, 0.8513]]]]) torch.Size([1, 1, 1, 10])\n",
            "tensor([0.5349, 0.1988, 0.6592, 0.6569, 0.2328, 0.4251, 0.2071, 0.6297, 0.3653,\n",
            "        0.8513]) torch.Size([10])\n"
          ]
        }
      ]
    }
  ]
}